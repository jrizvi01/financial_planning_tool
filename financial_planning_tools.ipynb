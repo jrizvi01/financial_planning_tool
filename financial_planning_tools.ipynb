{
 "cells": [
  {
   "cell_type": "markdown",
   "metadata": {},
   "source": [
    "# Financial Planning with APIs and Simulations\n",
    "\n",
    "In this Challenge, you’ll create two financial analysis tools by using a single Jupyter notebook:\n",
    "\n",
    "Part 1: A financial planner for emergencies. The members will be able to use this tool to visualize their current savings. The members can then determine if they have enough reserves for an emergency fund.\n",
    "\n",
    "Part 2: A financial planner for retirement. This tool will forecast the performance of their retirement portfolio in 30 years. To do this, the tool will make an Alpaca API call via the Alpaca SDK to get historical price data for use in Monte Carlo simulations.\n",
    "\n",
    "You’ll use the information from the Monte Carlo simulation to answer questions about the portfolio in your Jupyter notebook.\n",
    "\n"
   ]
  },
  {
   "cell_type": "code",
   "execution_count": 1,
   "metadata": {},
   "outputs": [],
   "source": [
    "# Import the required libraries and dependencies\n",
    "import os\n",
    "import requests\n",
    "import json\n",
    "import pandas as pd\n",
    "from dotenv import load_dotenv\n",
    "import alpaca_trade_api as tradeapi\n",
    "from MCForecastTools import MCSimulation\n",
    "\n",
    "%matplotlib inline"
   ]
  },
  {
   "cell_type": "code",
   "execution_count": 2,
   "metadata": {},
   "outputs": [
    {
     "data": {
      "text/plain": [
       "True"
      ]
     },
     "execution_count": 2,
     "metadata": {},
     "output_type": "execute_result"
    }
   ],
   "source": [
    "# Load the environment variables from the .env file\n",
    "#by calling the load_dotenv function\n",
    "load_dotenv()"
   ]
  },
  {
   "cell_type": "markdown",
   "metadata": {},
   "source": [
    "## Part 1: Create a Financial Planner for Emergencies"
   ]
  },
  {
   "cell_type": "markdown",
   "metadata": {},
   "source": [
    "### Evaluate the Cryptocurrency Wallet by Using the Requests Library\n",
    "\n",
    "In this section, you’ll determine the current value of a member’s cryptocurrency wallet. You’ll collect the current prices for the Bitcoin and Ethereum cryptocurrencies by using the Python Requests library. For the prototype, you’ll assume that the member holds the 1.2 Bitcoins (BTC) and 5.3 Ethereum coins (ETH). To do all this, complete the following steps:\n",
    "\n",
    "1. Create a variable named `monthly_income`, and set its value to `12000`.\n",
    "\n",
    "2. Use the Requests library to get the current price (in US dollars) of Bitcoin (BTC) and Ethereum (ETH) by using the API endpoints that the starter code supplies.\n",
    "\n",
    "3. Navigate the JSON response object to access the current price of each coin, and store each in a variable.\n",
    "\n",
    "    > **Hint** Note the specific identifier for each cryptocurrency in the API JSON response. The Bitcoin identifier is `1`, and the Ethereum identifier is `1027`.\n",
    "\n",
    "4. Calculate the value, in US dollars, of the current amount of each cryptocurrency and of the entire cryptocurrency wallet.\n",
    "\n"
   ]
  },
  {
   "cell_type": "code",
   "execution_count": 3,
   "metadata": {},
   "outputs": [],
   "source": [
    "# The current number of coins for each cryptocurrency asset held in the portfolio.\n",
    "btc_coins = 1.2\n",
    "eth_coins = 5.3"
   ]
  },
  {
   "cell_type": "markdown",
   "metadata": {},
   "source": [
    "#### Step 1: Create a variable named `monthly_income`, and set its value to `12000`."
   ]
  },
  {
   "cell_type": "code",
   "execution_count": 4,
   "metadata": {},
   "outputs": [],
   "source": [
    "# The monthly amount for the member's household income\n",
    "monthly_income = 12000"
   ]
  },
  {
   "cell_type": "markdown",
   "metadata": {},
   "source": [
    "#### Review the endpoint URLs for the API calls to Free Crypto API in order to get the current pricing information for both BTC and ETH."
   ]
  },
  {
   "cell_type": "code",
   "execution_count": 5,
   "metadata": {},
   "outputs": [],
   "source": [
    "# The Free Crypto API Call endpoint URLs for the held cryptocurrency assets\n",
    "btc_url = \"https://api.alternative.me/v2/ticker/Bitcoin/?convert=USD\"\n",
    "eth_url = \"https://api.alternative.me/v2/ticker/Ethereum/?convert=USD\""
   ]
  },
  {
   "cell_type": "markdown",
   "metadata": {},
   "source": [
    "#### Step 2. Use the Requests library to get the current price (in US dollars) of Bitcoin (BTC) and Ethereum (ETH) by using the API endpoints that the starter code supplied."
   ]
  },
  {
   "cell_type": "code",
   "execution_count": 6,
   "metadata": {},
   "outputs": [
    {
     "name": "stdout",
     "output_type": "stream",
     "text": [
      "{\n",
      "    \"data\": {\n",
      "        \"1\": {\n",
      "            \"circulating_supply\": 18694750,\n",
      "            \"id\": 1,\n",
      "            \"last_updated\": 1619745502,\n",
      "            \"max_supply\": 21000000,\n",
      "            \"name\": \"Bitcoin\",\n",
      "            \"quotes\": {\n",
      "                \"USD\": {\n",
      "                    \"market_cap\": 996869459483,\n",
      "                    \"percent_change_1h\": -0.0624924122480565,\n",
      "                    \"percent_change_24h\": -2.42219028139846,\n",
      "                    \"percent_change_7d\": 2.63586538561156,\n",
      "                    \"percentage_change_1h\": -0.0624924122480565,\n",
      "                    \"percentage_change_24h\": -2.42219028139846,\n",
      "                    \"percentage_change_7d\": 2.63586538561156,\n",
      "                    \"price\": 53335.0,\n",
      "                    \"volume_24h\": 47307610315\n",
      "                }\n",
      "            },\n",
      "            \"rank\": 1,\n",
      "            \"symbol\": \"BTC\",\n",
      "            \"total_supply\": 18694750,\n",
      "            \"website_slug\": \"bitcoin\"\n",
      "        }\n",
      "    },\n",
      "    \"metadata\": {\n",
      "        \"error\": null,\n",
      "        \"num_cryptocurrencies\": 1310,\n",
      "        \"timestamp\": 1619745502\n",
      "    }\n",
      "}\n"
     ]
    }
   ],
   "source": [
    "# Using the Python requests library, make an API call to access the current price of BTC\n",
    "btc_response = requests.get(btc_url).json()\n",
    "\n",
    "# Use the json.dumps function to review the response data from the API call\n",
    "# Use the indent and sort_keys parameters to make the response object readable\n",
    "print(json.dumps(btc_response, indent=4, sort_keys=True))"
   ]
  },
  {
   "cell_type": "code",
   "execution_count": 7,
   "metadata": {},
   "outputs": [
    {
     "name": "stdout",
     "output_type": "stream",
     "text": [
      "{\n",
      "    \"data\": {\n",
      "        \"1027\": {\n",
      "            \"circulating_supply\": 115674906,\n",
      "            \"id\": 1027,\n",
      "            \"last_updated\": 1619745576,\n",
      "            \"max_supply\": 0,\n",
      "            \"name\": \"Ethereum\",\n",
      "            \"quotes\": {\n",
      "                \"USD\": {\n",
      "                    \"market_cap\": 316220652190,\n",
      "                    \"percent_change_1h\": -0.327570218639049,\n",
      "                    \"percent_change_24h\": 0.475989255953979,\n",
      "                    \"percent_change_7d\": 12.7450237089208,\n",
      "                    \"percentage_change_1h\": -0.327570218639049,\n",
      "                    \"percentage_change_24h\": 0.475989255953979,\n",
      "                    \"percentage_change_7d\": 12.7450237089208,\n",
      "                    \"price\": 2735.27,\n",
      "                    \"volume_24h\": 38041139408\n",
      "                }\n",
      "            },\n",
      "            \"rank\": 2,\n",
      "            \"symbol\": \"ETH\",\n",
      "            \"total_supply\": 115674906,\n",
      "            \"website_slug\": \"ethereum\"\n",
      "        }\n",
      "    },\n",
      "    \"metadata\": {\n",
      "        \"error\": null,\n",
      "        \"num_cryptocurrencies\": 1310,\n",
      "        \"timestamp\": 1619745576\n",
      "    }\n",
      "}\n"
     ]
    }
   ],
   "source": [
    "# Using the Python requests library, make an API call to access the current price ETH\n",
    "eth_response = requests.get(eth_url).json()\n",
    "\n",
    "# Use the json.dumps function to review the response data from the API call\n",
    "# Use the indent and sort_keys parameters to make the response object readable\n",
    "print(json.dumps(eth_response, indent=4, sort_keys=True))"
   ]
  },
  {
   "cell_type": "markdown",
   "metadata": {},
   "source": [
    "#### Step 3: Navigate the JSON response object to access the current price of each coin, and store each in a variable."
   ]
  },
  {
   "cell_type": "code",
   "execution_count": 8,
   "metadata": {},
   "outputs": [
    {
     "name": "stdout",
     "output_type": "stream",
     "text": [
      "Current price of BTC is $53335.00\n"
     ]
    }
   ],
   "source": [
    "# Navigate the BTC response object to access the current price of BTC\n",
    "btc_price = btc_response['data']['1']['quotes']['USD']['price']\n",
    "\n",
    "# Print the current price of BTC\n",
    "print(f\"Current price of BTC is ${btc_price:0.2f}\")"
   ]
  },
  {
   "cell_type": "code",
   "execution_count": 9,
   "metadata": {},
   "outputs": [
    {
     "name": "stdout",
     "output_type": "stream",
     "text": [
      "Current price of ETH is $2735.27\n"
     ]
    }
   ],
   "source": [
    "# Navigate the BTC response object to access the current price of ETH\n",
    "eth_price = eth_response['data']['1027']['quotes']['USD']['price']\n",
    "\n",
    "# Print the current price of ETH\n",
    "print(f\"Current price of ETH is ${eth_price:0.2f}\")"
   ]
  },
  {
   "cell_type": "markdown",
   "metadata": {},
   "source": [
    "### Step 4: Calculate the value, in US dollars, of the current amount of each cryptocurrency and of the entire cryptocurrency wallet."
   ]
  },
  {
   "cell_type": "code",
   "execution_count": 10,
   "metadata": {},
   "outputs": [
    {
     "name": "stdout",
     "output_type": "stream",
     "text": [
      "Current value of BTC holding is $64002.00\n"
     ]
    }
   ],
   "source": [
    "# Compute the current value of the BTC holding \n",
    "btc_value = btc_coins * btc_price\n",
    "\n",
    "# Print current value of your holding in BTC\n",
    "print(f\"Current value of BTC holding is ${btc_value:0.2f}\")"
   ]
  },
  {
   "cell_type": "code",
   "execution_count": 11,
   "metadata": {},
   "outputs": [
    {
     "name": "stdout",
     "output_type": "stream",
     "text": [
      "Current value of ETH holding is $14496.93\n"
     ]
    }
   ],
   "source": [
    "# Compute the current value of the ETH holding \n",
    "eth_value = eth_coins * eth_price\n",
    "\n",
    "# Print current value of your holding in ETH\n",
    "print(f\"Current value of ETH holding is ${eth_value:0.2f}\")"
   ]
  },
  {
   "cell_type": "code",
   "execution_count": 12,
   "metadata": {},
   "outputs": [
    {
     "name": "stdout",
     "output_type": "stream",
     "text": [
      "Current cryptocurrency wallet balance is $78498.93\n"
     ]
    }
   ],
   "source": [
    "# Compute the total value of the cryptocurrency wallet\n",
    "# Add the value of the BTC holding to the value of the ETH holding\n",
    "total_crypto_wallet = btc_value + eth_value\n",
    "\n",
    "# Print current cryptocurrency wallet balance\n",
    "print(f\"Current cryptocurrency wallet balance is ${total_crypto_wallet:0.2f}\")"
   ]
  },
  {
   "cell_type": "markdown",
   "metadata": {},
   "source": [
    "### Evaluate the Stock and Bond Holdings by Using the Alpaca SDK\n",
    "\n",
    "In this section, you’ll determine the current value of a member’s stock and bond holdings. You’ll make an API call to Alpaca via the Alpaca SDK to get the current closing prices of the SPDR S&P 500 ETF Trust (ticker: SPY) and of the iShares Core US Aggregate Bond ETF (ticker: AGG). For the prototype, assume that the member holds 110 shares of SPY, which represents the stock portion of their portfolio, and 200 shares of AGG, which represents the bond portion. To do all this, complete the following steps:\n",
    "\n",
    "1. In the `Starter_Code` folder, create an environment file (`.env`) to store the values of your Alpaca API key and Alpaca secret key.\n",
    "\n",
    "2. Set the variables for the Alpaca API and secret keys. Using the Alpaca SDK, create the Alpaca `tradeapi.REST` object. In this object, include the parameters for the Alpaca API key, the secret key, and the version number.\n",
    "\n",
    "3. Set the following parameters for the Alpaca API call:\n",
    "\n",
    "    - `tickers`: Use the tickers for the member’s stock and bond holdings.\n",
    "\n",
    "    - `timeframe`: Use a time frame of one day.\n",
    "\n",
    "    - `start_date` and `end_date`: Use the same date for these parameters, and format them with the date of the previous weekday (or `2020-08-07`). This is because you want the one closing price for the most-recent trading day.\n",
    "\n",
    "4. Get the current closing prices for `SPY` and `AGG` by using the Alpaca `get_barset` function. Format the response as a Pandas DataFrame by including the `df` property at the end of the `get_barset` function.\n",
    "\n",
    "5. Navigating the Alpaca response DataFrame, select the `SPY` and `AGG` closing prices, and store them as variables.\n",
    "\n",
    "6. Calculate the value, in US dollars, of the current amount of shares in each of the stock and bond portions of the portfolio, and print the results.\n"
   ]
  },
  {
   "cell_type": "markdown",
   "metadata": {},
   "source": [
    "#### Review the total number of shares held in both (SPY) and (AGG)."
   ]
  },
  {
   "cell_type": "code",
   "execution_count": 13,
   "metadata": {},
   "outputs": [],
   "source": [
    "# Current amount of shares held in both the stock (SPY) and bond (AGG) portion of the portfolio.\n",
    "spy_shares = 110\n",
    "agg_shares = 200"
   ]
  },
  {
   "cell_type": "markdown",
   "metadata": {},
   "source": [
    "#### Step 1: In the `Starter_Code` folder, create an environment file (`.env`) to store the values of your Alpaca API key and Alpaca secret key."
   ]
  },
  {
   "cell_type": "markdown",
   "metadata": {},
   "source": [
    "#### Step 2: Set the variables for the Alpaca API and secret keys. Using the Alpaca SDK, create the Alpaca `tradeapi.REST` object. In this object, include the parameters for the Alpaca API key, the secret key, and the version number."
   ]
  },
  {
   "cell_type": "code",
   "execution_count": 14,
   "metadata": {},
   "outputs": [],
   "source": [
    "# Set the variables for the Alpaca API and secret keys\n",
    "alpaca_api_key = os.getenv(\"ALPACA_API_KEY\")\n",
    "alpaca_secret_key = os.getenv(\"ALPACA_SECRET_KEY\")\n",
    "\n",
    "# Create the Alpaca tradeapi.REST object\n",
    "alpaca = tradeapi.REST(\n",
    "    alpaca_api_key,\n",
    "    alpaca_secret_key,\n",
    "    api_version=\"v2\")"
   ]
  },
  {
   "cell_type": "markdown",
   "metadata": {},
   "source": [
    "#### Step 3: Set the following parameters for the Alpaca API call:\n",
    "\n",
    "- `tickers`: Use the tickers for the member’s stock and bond holdings.\n",
    "\n",
    "- `timeframe`: Use a time frame of one day.\n",
    "\n",
    "- `start_date` and `end_date`: Use the same date for these parameters, and format them with the date of the previous weekday (or `2020-08-07`). This is because you want the one closing price for the most-recent trading day.\n"
   ]
  },
  {
   "cell_type": "code",
   "execution_count": 15,
   "metadata": {},
   "outputs": [],
   "source": [
    "# Set the tickers for both the bond and stock portion of the portfolio\n",
    "tickers = [\"SPY\" , \"AGG\"]\n",
    "\n",
    "# Set timeframe to 1D \n",
    "timeframe = \"1D\"\n",
    "\n",
    "# Format current date as ISO format\n",
    "# Set both the start and end date at the date of your prior weekday \n",
    "# This will give you the closing price of the previous trading day\n",
    "# Alternatively you can use a start and end date of 2020-08-07\n",
    "start_date = pd.Timestamp(\"2021-04-27\", tz=\"America/New_York\").isoformat()\n",
    "end_date = pd.Timestamp(\"2021-04-27\", tz=\"America/New_York\").isoformat()"
   ]
  },
  {
   "cell_type": "markdown",
   "metadata": {},
   "source": [
    "#### Step 4: Get the current closing prices for `SPY` and `AGG` by using the Alpaca `get_barset` function. Format the response as a Pandas DataFrame by including the `df` property at the end of the `get_barset` function."
   ]
  },
  {
   "cell_type": "code",
   "execution_count": 16,
   "metadata": {},
   "outputs": [
    {
     "data": {
      "text/html": [
       "<div>\n",
       "<style scoped>\n",
       "    .dataframe tbody tr th:only-of-type {\n",
       "        vertical-align: middle;\n",
       "    }\n",
       "\n",
       "    .dataframe tbody tr th {\n",
       "        vertical-align: top;\n",
       "    }\n",
       "\n",
       "    .dataframe thead tr th {\n",
       "        text-align: left;\n",
       "    }\n",
       "\n",
       "    .dataframe thead tr:last-of-type th {\n",
       "        text-align: right;\n",
       "    }\n",
       "</style>\n",
       "<table border=\"1\" class=\"dataframe\">\n",
       "  <thead>\n",
       "    <tr>\n",
       "      <th></th>\n",
       "      <th colspan=\"5\" halign=\"left\">AGG</th>\n",
       "      <th colspan=\"5\" halign=\"left\">SPY</th>\n",
       "    </tr>\n",
       "    <tr>\n",
       "      <th></th>\n",
       "      <th>open</th>\n",
       "      <th>high</th>\n",
       "      <th>low</th>\n",
       "      <th>close</th>\n",
       "      <th>volume</th>\n",
       "      <th>open</th>\n",
       "      <th>high</th>\n",
       "      <th>low</th>\n",
       "      <th>close</th>\n",
       "      <th>volume</th>\n",
       "    </tr>\n",
       "    <tr>\n",
       "      <th>time</th>\n",
       "      <th></th>\n",
       "      <th></th>\n",
       "      <th></th>\n",
       "      <th></th>\n",
       "      <th></th>\n",
       "      <th></th>\n",
       "      <th></th>\n",
       "      <th></th>\n",
       "      <th></th>\n",
       "      <th></th>\n",
       "    </tr>\n",
       "  </thead>\n",
       "  <tbody>\n",
       "    <tr>\n",
       "      <th>2021-04-27 00:00:00-04:00</th>\n",
       "      <td>115.13</td>\n",
       "      <td>115.13</td>\n",
       "      <td>114.37</td>\n",
       "      <td>114.37</td>\n",
       "      <td>3421667</td>\n",
       "      <td>417.91</td>\n",
       "      <td>418.14</td>\n",
       "      <td>416.3</td>\n",
       "      <td>417.48</td>\n",
       "      <td>45962264</td>\n",
       "    </tr>\n",
       "  </tbody>\n",
       "</table>\n",
       "</div>"
      ],
      "text/plain": [
       "                              AGG                                      SPY  \\\n",
       "                             open    high     low   close   volume    open   \n",
       "time                                                                         \n",
       "2021-04-27 00:00:00-04:00  115.13  115.13  114.37  114.37  3421667  417.91   \n",
       "\n",
       "                                                            \n",
       "                             high    low   close    volume  \n",
       "time                                                        \n",
       "2021-04-27 00:00:00-04:00  418.14  416.3  417.48  45962264  "
      ]
     },
     "execution_count": 16,
     "metadata": {},
     "output_type": "execute_result"
    }
   ],
   "source": [
    "# Use the Alpaca get_barset function to get current closing prices the portfolio\n",
    "# Be sure to set the `df` property after the function to format the response object as a DataFrame\n",
    "closing_prices = alpaca.get_barset(\n",
    "    tickers,\n",
    "    timeframe,\n",
    "    start = start_date,\n",
    "    end = end_date\n",
    ").df\n",
    "\n",
    "# Review the first 5 rows of the Alpaca DataFrame\n",
    "closing_prices.head()"
   ]
  },
  {
   "cell_type": "markdown",
   "metadata": {},
   "source": [
    "#### Step 5: Navigating the Alpaca response DataFrame, select the `SPY` and `AGG` closing prices, and store them as variables."
   ]
  },
  {
   "cell_type": "code",
   "execution_count": 17,
   "metadata": {},
   "outputs": [
    {
     "name": "stdout",
     "output_type": "stream",
     "text": [
      "AGG closing price is $114.37\n"
     ]
    }
   ],
   "source": [
    "# Access the closing price for AGG from the Alpaca DataFrame\n",
    "# Converting the value to a floating point number\n",
    "agg_close_price = closing_prices[\"AGG\"][\"close\"][0]\n",
    "\n",
    "# Print the AGG closing price\n",
    "print(f\"AGG closing price is ${agg_close_price:0.2f}\")"
   ]
  },
  {
   "cell_type": "code",
   "execution_count": 18,
   "metadata": {},
   "outputs": [
    {
     "name": "stdout",
     "output_type": "stream",
     "text": [
      "SPY closing price is $417.48\n"
     ]
    }
   ],
   "source": [
    "# Access the closing price for SPY from the Alpaca DataFrame\n",
    "# Converting the value to a floating point number\n",
    "spy_close_price = closing_prices[\"SPY\"][\"close\"][0]\n",
    "\n",
    "# Print the SPY closing price\n",
    "print(f\"SPY closing price is ${spy_close_price:0.2f}\")"
   ]
  },
  {
   "cell_type": "markdown",
   "metadata": {},
   "source": [
    "#### Step 6: Calculate the value, in US dollars, of the current amount of shares in each of the stock and bond portions of the portfolio, and print the results."
   ]
  },
  {
   "cell_type": "code",
   "execution_count": 19,
   "metadata": {},
   "outputs": [
    {
     "name": "stdout",
     "output_type": "stream",
     "text": [
      "Current value of bond portfolio is $22874.00\n"
     ]
    }
   ],
   "source": [
    "# Calculate the current value of the bond portion of the portfolio\n",
    "agg_value = agg_shares * agg_close_price\n",
    "\n",
    "# Print the current value of the bond portfolio\n",
    "print(f\"Current value of bond portfolio is ${agg_value:0.2f}\")"
   ]
  },
  {
   "cell_type": "code",
   "execution_count": 20,
   "metadata": {},
   "outputs": [
    {
     "name": "stdout",
     "output_type": "stream",
     "text": [
      "Current value of stock portfolio is $45922.80\n"
     ]
    }
   ],
   "source": [
    "# Calculate the current value of the stock portion of the portfolio\n",
    "spy_value = spy_shares * spy_close_price\n",
    "\n",
    "# Print the current value of the stock portfolio\n",
    "print(f\"Current value of stock portfolio is ${spy_value:0.2f}\")"
   ]
  },
  {
   "cell_type": "code",
   "execution_count": 21,
   "metadata": {},
   "outputs": [
    {
     "name": "stdout",
     "output_type": "stream",
     "text": [
      "Current value of the total portfolio is $68796.80\n"
     ]
    }
   ],
   "source": [
    "# Calculate the total value of the stock and bond portion of the portfolio\n",
    "total_stocks_bonds = agg_value + spy_value\n",
    "\n",
    "# Print the current balance of the stock and bond portion of the portfolio\n",
    "print(f\"Current value of the total portfolio is ${total_stocks_bonds:0.2f}\")"
   ]
  },
  {
   "cell_type": "code",
   "execution_count": 22,
   "metadata": {},
   "outputs": [
    {
     "name": "stdout",
     "output_type": "stream",
     "text": [
      "Total value of the entire savings portfolio is $147295.73\n"
     ]
    }
   ],
   "source": [
    "# Calculate the total value of the member's entire savings portfolio\n",
    "# Add the value of the cryptocurrency walled to the value of the total stocks and bonds\n",
    "total_portfolio = total_crypto_wallet + total_stocks_bonds\n",
    "\n",
    "# Print current cryptocurrency wallet balance\n",
    "print(f\"Total value of the entire savings portfolio is ${total_portfolio:0.2f}\")"
   ]
  },
  {
   "cell_type": "markdown",
   "metadata": {},
   "source": [
    "### Evaluate the Emergency Fund\n",
    "\n",
    "In this section, you’ll use the valuations for the cryptocurrency wallet and for the stock and bond portions of the portfolio to determine if the credit union member has enough savings to build an emergency fund into their financial plan. To do this, complete the following steps:\n",
    "\n",
    "1. Create a Python list named `savings_data` that has two elements. The first element contains the total value of the cryptocurrency wallet. The second element contains the total value of the stock and bond portions of the portfolio.\n",
    "\n",
    "2. Use the `savings_data` list to create a Pandas DataFrame named `savings_df`, and then display this DataFrame. The function to create the DataFrame should take the following three parameters:\n",
    "\n",
    "    - `savings_data`: Use the list that you just created.\n",
    "\n",
    "    - `columns`: Set this parameter equal to a Python list with a single value called `amount`.\n",
    "\n",
    "    - `index`: Set this parameter equal to a Python list with the values of `crypto` and `stock/bond`.\n",
    "\n",
    "3. Use the `savings_df` DataFrame to plot a pie chart that visualizes the composition of the member’s portfolio. The y-axis of the pie chart uses `amount`. Be sure to add a title.\n",
    "\n",
    "4. Using Python, determine if the current portfolio has enough to create an emergency fund as part of the member’s financial plan. Ideally, an emergency fund should equal to three times the member’s monthly income. To do this, implement the following steps:\n",
    "\n",
    "    1. Create a variable named `emergency_fund_value`, and set it equal to three times the value of the member’s `monthly_income` of $12000. (You set this earlier in Part 1).\n",
    "\n",
    "    2. Create a series of three if statements to determine if the member’s total portfolio is large enough to fund the emergency portfolio:\n",
    "\n",
    "        1. If the total portfolio value is greater than the emergency fund value, display a message congratulating the member for having enough money in this fund.\n",
    "\n",
    "        2. Else if the total portfolio value is equal to the emergency fund value, display a message congratulating the member on reaching this important financial goal.\n",
    "\n",
    "        3. Else the total portfolio is less than the emergency fund value, so display a message showing how many dollars away the member is from reaching the goal. (Subtract the total portfolio value from the emergency fund value.)\n"
   ]
  },
  {
   "cell_type": "markdown",
   "metadata": {},
   "source": [
    "#### Step 1: Create a Python list named `savings_data` that has two elements. The first element contains the total value of the cryptocurrency wallet. The second element contains the total value of the stock and bond portions of the portfolio."
   ]
  },
  {
   "cell_type": "code",
   "execution_count": 23,
   "metadata": {},
   "outputs": [
    {
     "data": {
      "text/plain": [
       "[78498.931, 68796.8]"
      ]
     },
     "execution_count": 23,
     "metadata": {},
     "output_type": "execute_result"
    }
   ],
   "source": [
    "# Consolidate financial assets data into a Python list\n",
    "savings_data = [total_crypto_wallet , total_stocks_bonds]\n",
    "\n",
    "# Review the Python list savings_data\n",
    "savings_data"
   ]
  },
  {
   "cell_type": "markdown",
   "metadata": {},
   "source": [
    "#### Step 2: Use the `savings_data` list to create a Pandas DataFrame named `savings_df`, and then display this DataFrame. The function to create the DataFrame should take the following three parameters:\n",
    "\n",
    "- `savings_data`: Use the list that you just created.\n",
    "\n",
    "- `columns`: Set this parameter equal to a Python list with a single value called `amount`.\n",
    "\n",
    "- `index`: Set this parameter equal to a Python list with the values of `crypto` and `stock/bond`.\n"
   ]
  },
  {
   "cell_type": "code",
   "execution_count": 24,
   "metadata": {},
   "outputs": [
    {
     "data": {
      "text/html": [
       "<div>\n",
       "<style scoped>\n",
       "    .dataframe tbody tr th:only-of-type {\n",
       "        vertical-align: middle;\n",
       "    }\n",
       "\n",
       "    .dataframe tbody tr th {\n",
       "        vertical-align: top;\n",
       "    }\n",
       "\n",
       "    .dataframe thead th {\n",
       "        text-align: right;\n",
       "    }\n",
       "</style>\n",
       "<table border=\"1\" class=\"dataframe\">\n",
       "  <thead>\n",
       "    <tr style=\"text-align: right;\">\n",
       "      <th></th>\n",
       "      <th>amount</th>\n",
       "    </tr>\n",
       "  </thead>\n",
       "  <tbody>\n",
       "    <tr>\n",
       "      <th>crypto</th>\n",
       "      <td>78498.931</td>\n",
       "    </tr>\n",
       "    <tr>\n",
       "      <th>stock/bond</th>\n",
       "      <td>68796.800</td>\n",
       "    </tr>\n",
       "  </tbody>\n",
       "</table>\n",
       "</div>"
      ],
      "text/plain": [
       "               amount\n",
       "crypto      78498.931\n",
       "stock/bond  68796.800"
      ]
     },
     "execution_count": 24,
     "metadata": {},
     "output_type": "execute_result"
    }
   ],
   "source": [
    "# Create a Pandas DataFrame called savings_df \n",
    "savings_df = pd.DataFrame(savings_data, columns=[\"amount\"], index=[\"crypto\", \"stock/bond\"])\n",
    "\n",
    "# Display the savings_df DataFrame\n",
    "savings_df"
   ]
  },
  {
   "cell_type": "markdown",
   "metadata": {},
   "source": [
    "#### Step 3: Use the `savings_df` DataFrame to plot a pie chart that visualizes the composition of the member’s portfolio. The y-axis of the pie chart uses `amount`. Be sure to add a title."
   ]
  },
  {
   "cell_type": "code",
   "execution_count": 25,
   "metadata": {},
   "outputs": [
    {
     "data": {
      "image/png": "[encoded data removed]",
      "text/plain": [
       "<Figure size 432x432 with 1 Axes>"
      ]
     },
     "metadata": {},
     "output_type": "display_data"
    }
   ],
   "source": [
    "# Plot the total value of the member's portfolio (crypto and stock/bond) in a pie chart\n",
    "savings_df.plot.pie(figsize=(6, 6), title=\"Portfolio\", y='amount');"
   ]
  },
  {
   "cell_type": "markdown",
   "metadata": {},
   "source": [
    "#### Step 4: Using Python, determine if the current portfolio has enough to create an emergency fund as part of the member’s financial plan. Ideally, an emergency fund should equal to three times the member’s monthly income. To do this, implement the following steps:\n",
    "\n",
    "Step 1. Create a variable named `emergency_fund_value`, and set it equal to three times the value of the member’s `monthly_income` of 12000. (You set this earlier in Part 1).\n",
    "\n",
    "Step 2. Create a series of three if statements to determine if the member’s total portfolio is large enough to fund the emergency portfolio:\n",
    "\n",
    "* If the total portfolio value is greater than the emergency fund value, display a message congratulating the member for having enough money in this fund.\n",
    "\n",
    "* Else if the total portfolio value is equal to the emergency fund value, display a message congratulating the member on reaching this important financial goal.\n",
    "\n",
    "* Else the total portfolio is less than the emergency fund value, so display a message showing how many dollars away the member is from reaching the goal. (Subtract the total portfolio value from the emergency fund value.)\n"
   ]
  },
  {
   "cell_type": "markdown",
   "metadata": {},
   "source": [
    "##### Step 4-1: Create a variable named `emergency_fund_value`, and set it equal to three times the value of the member’s `monthly_income` of 12000. (You set this earlier in Part 1)."
   ]
  },
  {
   "cell_type": "code",
   "execution_count": 26,
   "metadata": {},
   "outputs": [
    {
     "data": {
      "text/plain": [
       "36000"
      ]
     },
     "execution_count": 26,
     "metadata": {},
     "output_type": "execute_result"
    }
   ],
   "source": [
    "# Create a variable named emergency_fund_value\n",
    "emergency_fund_value = monthly_income * 3\n",
    "emergency_fund_value"
   ]
  },
  {
   "cell_type": "markdown",
   "metadata": {},
   "source": [
    "##### Step 4-2: Create a series of three if statements to determine if the member’s total portfolio is large enough to fund the emergency portfolio:\n",
    "\n",
    "* If the total portfolio value is greater than the emergency fund value, display a message congratulating the member for having enough money in this fund.\n",
    "\n",
    "* Else if the total portfolio value is equal to the emergency fund value, display a message congratulating the member on reaching this important financial goal.\n",
    "\n",
    "* Else the total portfolio is less than the emergency fund value, so display a message showing how many dollars away the member is from reaching the goal. (Subtract the total portfolio value from the emergency fund value.)"
   ]
  },
  {
   "cell_type": "code",
   "execution_count": 27,
   "metadata": {},
   "outputs": [
    {
     "name": "stdout",
     "output_type": "stream",
     "text": [
      "Congratulations! You have sufficient funds for emergency.\n"
     ]
    }
   ],
   "source": [
    "# Evaluate the possibility of creating an emergency fund with 3 conditions:\n",
    "insufficient_emergency_funds = emergency_fund_value - total_portfolio\n",
    "if total_portfolio > emergency_fund_value:\n",
    "    print(f\"Congratulations! You have sufficient funds for emergency.\")\n",
    "elif total_portfolio == emergency_fund_value:\n",
    "    print(f\"Congratulations! You have reached your goal.\")\n",
    "else:\n",
    "    print(f\"Need more savings! To reach financial goal, you need to save: ${insufficient_emergency_funds}\")"
   ]
  },
  {
   "cell_type": "markdown",
   "metadata": {},
   "source": [
    "## Part 2: Create a Financial Planner for Retirement"
   ]
  },
  {
   "cell_type": "markdown",
   "metadata": {},
   "source": [
    "### Create the Monte Carlo Simulation\n",
    "\n",
    "In this section, you’ll use the MCForecastTools library to create a Monte Carlo simulation for the member’s savings portfolio. To do this, complete the following steps:\n",
    "\n",
    "1. Make an API call via the Alpaca SDK to get 10 years of historical closing prices for a traditional 60/40 portfolio split: 60% stocks (SPY) and 40% bonds (AGG).\n",
    "\n",
    "2. Run a Monte Carlo simulation of 500 samples and 30 years for the 60/40 portfolio, and then plot the results.The following image shows the overlay line plot resulting from a simulation with these characteristics. However, because a random number generator is used to run each live Monte Carlo simulation, your image will differ slightly from this exact image:\n",
    "\n",
    "![A screenshot depicts the resulting plot.](Images/5-4-monte-carlo-line-plot.png)\n",
    "\n",
    "3. Plot the probability distribution of the Monte Carlo simulation. Plot the probability distribution of the Monte Carlo simulation. The following image shows the histogram plot resulting from a simulation with these characteristics. However, because a random number generator is used to run each live Monte Carlo simulation, your image will differ slightly from this exact image:\n",
    "\n",
    "![A screenshot depicts the histogram plot.](Images/5-4-monte-carlo-histogram.png)\n",
    "\n",
    "4. Generate the summary statistics for the Monte Carlo simulation.\n",
    "\n"
   ]
  },
  {
   "cell_type": "markdown",
   "metadata": {},
   "source": [
    "#### Step 1: Make an API call via the Alpaca SDK to get 10 years of historical closing prices for a traditional 60/40 portfolio split: 60% stocks (SPY) and 40% bonds (AGG)."
   ]
  },
  {
   "cell_type": "code",
   "execution_count": 28,
   "metadata": {},
   "outputs": [],
   "source": [
    "# Set start and end dates of 10 years back from your current date\n",
    "# Alternatively, you can use an end date of 2020-08-07 and work 10 years back from that date \n",
    "start_date_1 = pd.Timestamp(\"2011-04-27\", tz=\"America/New_York\").isoformat()\n",
    "end_date_2 = pd.Timestamp(\"2013-04-26\", tz=\"America/New_York\").isoformat()\n",
    "end_date_3 = pd.Timestamp('2017-04-25', tz='America/New_York').isoformat()\n",
    "end_date_4 = pd.Timestamp('2021-04-27', tz='America/New_York').isoformat()"
   ]
  },
  {
   "cell_type": "code",
   "execution_count": 29,
   "metadata": {},
   "outputs": [
    {
     "data": {
      "text/html": [
       "<div>\n",
       "<style scoped>\n",
       "    .dataframe tbody tr th:only-of-type {\n",
       "        vertical-align: middle;\n",
       "    }\n",
       "\n",
       "    .dataframe tbody tr th {\n",
       "        vertical-align: top;\n",
       "    }\n",
       "\n",
       "    .dataframe thead tr th {\n",
       "        text-align: left;\n",
       "    }\n",
       "\n",
       "    .dataframe thead tr:last-of-type th {\n",
       "        text-align: right;\n",
       "    }\n",
       "</style>\n",
       "<table border=\"1\" class=\"dataframe\">\n",
       "  <thead>\n",
       "    <tr>\n",
       "      <th></th>\n",
       "      <th colspan=\"5\" halign=\"left\">AGG</th>\n",
       "      <th colspan=\"5\" halign=\"left\">SPY</th>\n",
       "    </tr>\n",
       "    <tr>\n",
       "      <th></th>\n",
       "      <th>open</th>\n",
       "      <th>high</th>\n",
       "      <th>low</th>\n",
       "      <th>close</th>\n",
       "      <th>volume</th>\n",
       "      <th>open</th>\n",
       "      <th>high</th>\n",
       "      <th>low</th>\n",
       "      <th>close</th>\n",
       "      <th>volume</th>\n",
       "    </tr>\n",
       "    <tr>\n",
       "      <th>time</th>\n",
       "      <th></th>\n",
       "      <th></th>\n",
       "      <th></th>\n",
       "      <th></th>\n",
       "      <th></th>\n",
       "      <th></th>\n",
       "      <th></th>\n",
       "      <th></th>\n",
       "      <th></th>\n",
       "      <th></th>\n",
       "    </tr>\n",
       "  </thead>\n",
       "  <tbody>\n",
       "    <tr>\n",
       "      <th>2011-04-27 00:00:00-04:00</th>\n",
       "      <td>106.02</td>\n",
       "      <td>106.15</td>\n",
       "      <td>105.8700</td>\n",
       "      <td>106.12</td>\n",
       "      <td>445160.0</td>\n",
       "      <td>135.05</td>\n",
       "      <td>135.87</td>\n",
       "      <td>134.500</td>\n",
       "      <td>135.62</td>\n",
       "      <td>115224999.0</td>\n",
       "    </tr>\n",
       "    <tr>\n",
       "      <th>2011-04-28 00:00:00-04:00</th>\n",
       "      <td>106.28</td>\n",
       "      <td>106.39</td>\n",
       "      <td>106.1652</td>\n",
       "      <td>106.39</td>\n",
       "      <td>533653.0</td>\n",
       "      <td>135.43</td>\n",
       "      <td>136.29</td>\n",
       "      <td>135.410</td>\n",
       "      <td>136.11</td>\n",
       "      <td>104553462.0</td>\n",
       "    </tr>\n",
       "    <tr>\n",
       "      <th>2011-04-29 00:00:00-04:00</th>\n",
       "      <td>106.24</td>\n",
       "      <td>106.49</td>\n",
       "      <td>106.2400</td>\n",
       "      <td>106.46</td>\n",
       "      <td>435680.0</td>\n",
       "      <td>136.16</td>\n",
       "      <td>136.57</td>\n",
       "      <td>135.980</td>\n",
       "      <td>136.46</td>\n",
       "      <td>84397226.0</td>\n",
       "    </tr>\n",
       "    <tr>\n",
       "      <th>2011-05-02 00:00:00-04:00</th>\n",
       "      <td>106.21</td>\n",
       "      <td>106.24</td>\n",
       "      <td>106.0400</td>\n",
       "      <td>106.19</td>\n",
       "      <td>553216.0</td>\n",
       "      <td>137.07</td>\n",
       "      <td>137.18</td>\n",
       "      <td>135.950</td>\n",
       "      <td>136.23</td>\n",
       "      <td>112873467.0</td>\n",
       "    </tr>\n",
       "    <tr>\n",
       "      <th>2011-05-03 00:00:00-04:00</th>\n",
       "      <td>106.26</td>\n",
       "      <td>106.34</td>\n",
       "      <td>106.1500</td>\n",
       "      <td>106.23</td>\n",
       "      <td>471087.0</td>\n",
       "      <td>135.96</td>\n",
       "      <td>136.19</td>\n",
       "      <td>135.045</td>\n",
       "      <td>135.72</td>\n",
       "      <td>120587313.0</td>\n",
       "    </tr>\n",
       "  </tbody>\n",
       "</table>\n",
       "</div>"
      ],
      "text/plain": [
       "                              AGG                                         SPY  \\\n",
       "                             open    high       low   close    volume    open   \n",
       "time                                                                            \n",
       "2011-04-27 00:00:00-04:00  106.02  106.15  105.8700  106.12  445160.0  135.05   \n",
       "2011-04-28 00:00:00-04:00  106.28  106.39  106.1652  106.39  533653.0  135.43   \n",
       "2011-04-29 00:00:00-04:00  106.24  106.49  106.2400  106.46  435680.0  136.16   \n",
       "2011-05-02 00:00:00-04:00  106.21  106.24  106.0400  106.19  553216.0  137.07   \n",
       "2011-05-03 00:00:00-04:00  106.26  106.34  106.1500  106.23  471087.0  135.96   \n",
       "\n",
       "                                                                 \n",
       "                             high      low   close       volume  \n",
       "time                                                             \n",
       "2011-04-27 00:00:00-04:00  135.87  134.500  135.62  115224999.0  \n",
       "2011-04-28 00:00:00-04:00  136.29  135.410  136.11  104553462.0  \n",
       "2011-04-29 00:00:00-04:00  136.57  135.980  136.46   84397226.0  \n",
       "2011-05-02 00:00:00-04:00  137.18  135.950  136.23  112873467.0  \n",
       "2011-05-03 00:00:00-04:00  136.19  135.045  135.72  120587313.0  "
      ]
     },
     "metadata": {},
     "output_type": "display_data"
    },
    {
     "data": {
      "text/html": [
       "<div>\n",
       "<style scoped>\n",
       "    .dataframe tbody tr th:only-of-type {\n",
       "        vertical-align: middle;\n",
       "    }\n",
       "\n",
       "    .dataframe tbody tr th {\n",
       "        vertical-align: top;\n",
       "    }\n",
       "\n",
       "    .dataframe thead tr th {\n",
       "        text-align: left;\n",
       "    }\n",
       "\n",
       "    .dataframe thead tr:last-of-type th {\n",
       "        text-align: right;\n",
       "    }\n",
       "</style>\n",
       "<table border=\"1\" class=\"dataframe\">\n",
       "  <thead>\n",
       "    <tr>\n",
       "      <th></th>\n",
       "      <th colspan=\"5\" halign=\"left\">AGG</th>\n",
       "      <th colspan=\"5\" halign=\"left\">SPY</th>\n",
       "    </tr>\n",
       "    <tr>\n",
       "      <th></th>\n",
       "      <th>open</th>\n",
       "      <th>high</th>\n",
       "      <th>low</th>\n",
       "      <th>close</th>\n",
       "      <th>volume</th>\n",
       "      <th>open</th>\n",
       "      <th>high</th>\n",
       "      <th>low</th>\n",
       "      <th>close</th>\n",
       "      <th>volume</th>\n",
       "    </tr>\n",
       "    <tr>\n",
       "      <th>time</th>\n",
       "      <th></th>\n",
       "      <th></th>\n",
       "      <th></th>\n",
       "      <th></th>\n",
       "      <th></th>\n",
       "      <th></th>\n",
       "      <th></th>\n",
       "      <th></th>\n",
       "      <th></th>\n",
       "      <th></th>\n",
       "    </tr>\n",
       "  </thead>\n",
       "  <tbody>\n",
       "    <tr>\n",
       "      <th>2021-04-21 00:00:00-04:00</th>\n",
       "      <td>114.60</td>\n",
       "      <td>114.7400</td>\n",
       "      <td>114.5300</td>\n",
       "      <td>114.74</td>\n",
       "      <td>5250384.0</td>\n",
       "      <td>411.51</td>\n",
       "      <td>416.29</td>\n",
       "      <td>411.3600</td>\n",
       "      <td>416.08</td>\n",
       "      <td>54772634.0</td>\n",
       "    </tr>\n",
       "    <tr>\n",
       "      <th>2021-04-22 00:00:00-04:00</th>\n",
       "      <td>114.74</td>\n",
       "      <td>114.8000</td>\n",
       "      <td>114.5900</td>\n",
       "      <td>114.77</td>\n",
       "      <td>3518947.0</td>\n",
       "      <td>415.88</td>\n",
       "      <td>416.78</td>\n",
       "      <td>411.1300</td>\n",
       "      <td>412.30</td>\n",
       "      <td>90085820.0</td>\n",
       "    </tr>\n",
       "    <tr>\n",
       "      <th>2021-04-23 00:00:00-04:00</th>\n",
       "      <td>114.81</td>\n",
       "      <td>115.0860</td>\n",
       "      <td>114.6415</td>\n",
       "      <td>114.75</td>\n",
       "      <td>3506457.0</td>\n",
       "      <td>412.87</td>\n",
       "      <td>418.25</td>\n",
       "      <td>412.7900</td>\n",
       "      <td>416.72</td>\n",
       "      <td>62186191.0</td>\n",
       "    </tr>\n",
       "    <tr>\n",
       "      <th>2021-04-26 00:00:00-04:00</th>\n",
       "      <td>114.74</td>\n",
       "      <td>114.8015</td>\n",
       "      <td>114.6500</td>\n",
       "      <td>114.65</td>\n",
       "      <td>2867784.0</td>\n",
       "      <td>417.44</td>\n",
       "      <td>418.22</td>\n",
       "      <td>416.8111</td>\n",
       "      <td>417.64</td>\n",
       "      <td>44689009.0</td>\n",
       "    </tr>\n",
       "    <tr>\n",
       "      <th>2021-04-27 00:00:00-04:00</th>\n",
       "      <td>115.13</td>\n",
       "      <td>115.1300</td>\n",
       "      <td>114.3700</td>\n",
       "      <td>114.37</td>\n",
       "      <td>3421667.0</td>\n",
       "      <td>417.91</td>\n",
       "      <td>418.14</td>\n",
       "      <td>416.3000</td>\n",
       "      <td>417.48</td>\n",
       "      <td>45962264.0</td>\n",
       "    </tr>\n",
       "  </tbody>\n",
       "</table>\n",
       "</div>"
      ],
      "text/plain": [
       "                              AGG                                         \\\n",
       "                             open      high       low   close     volume   \n",
       "time                                                                       \n",
       "2021-04-21 00:00:00-04:00  114.60  114.7400  114.5300  114.74  5250384.0   \n",
       "2021-04-22 00:00:00-04:00  114.74  114.8000  114.5900  114.77  3518947.0   \n",
       "2021-04-23 00:00:00-04:00  114.81  115.0860  114.6415  114.75  3506457.0   \n",
       "2021-04-26 00:00:00-04:00  114.74  114.8015  114.6500  114.65  2867784.0   \n",
       "2021-04-27 00:00:00-04:00  115.13  115.1300  114.3700  114.37  3421667.0   \n",
       "\n",
       "                              SPY                                        \n",
       "                             open    high       low   close      volume  \n",
       "time                                                                     \n",
       "2021-04-21 00:00:00-04:00  411.51  416.29  411.3600  416.08  54772634.0  \n",
       "2021-04-22 00:00:00-04:00  415.88  416.78  411.1300  412.30  90085820.0  \n",
       "2021-04-23 00:00:00-04:00  412.87  418.25  412.7900  416.72  62186191.0  \n",
       "2021-04-26 00:00:00-04:00  417.44  418.22  416.8111  417.64  44689009.0  \n",
       "2021-04-27 00:00:00-04:00  417.91  418.14  416.3000  417.48  45962264.0  "
      ]
     },
     "metadata": {},
     "output_type": "display_data"
    }
   ],
   "source": [
    "# Use the Alpaca get_barset function to make the API call to get the 10 years worth of pricing data\n",
    "# The tickers and timeframe parameters should have been set in Part 1 of this activity \n",
    "# The start and end dates should be updated with the information set above\n",
    "# Remember to add the df property to the end of the call so the response is returned as a DataFrame\n",
    "closing_prices_1 = alpaca.get_barset(\n",
    "    tickers,\n",
    "    timeframe,\n",
    "    limit=1000,\n",
    "    start = start_date_1,\n",
    "    end = end_date_2\n",
    ").df\n",
    "\n",
    "closing_prices_2 = alpaca.get_barset(\n",
    "    tickers,\n",
    "    timeframe,\n",
    "    limit=1000,\n",
    "    start = start_date_1,\n",
    "    end = end_date_3\n",
    ").df\n",
    "\n",
    "closing_prices_3 = alpaca.get_barset(\n",
    "    tickers,\n",
    "    timeframe,\n",
    "    limit=1000,\n",
    "    start = start_date_1,\n",
    "    end = end_date_4\n",
    ").df\n",
    "\n",
    "closing_prices_10yrs = pd.concat([closing_prices_1, closing_prices_2, closing_prices_3])\n",
    "closing_prices_10yrs = closing_prices_10yrs.drop_duplicates()\n",
    "\n",
    "# Display both the first and last five rows of the DataFrame\n",
    "display(closing_prices_10yrs.head())\n",
    "display(closing_prices_10yrs.tail())"
   ]
  },
  {
   "cell_type": "markdown",
   "metadata": {},
   "source": [
    "#### Step 2: Run a Monte Carlo simulation of 500 samples and 30 years for the 60/40 portfolio, and then plot the results."
   ]
  },
  {
   "cell_type": "code",
   "execution_count": 30,
   "metadata": {},
   "outputs": [
    {
     "data": {
      "text/html": [
       "<div>\n",
       "<style scoped>\n",
       "    .dataframe tbody tr th:only-of-type {\n",
       "        vertical-align: middle;\n",
       "    }\n",
       "\n",
       "    .dataframe tbody tr th {\n",
       "        vertical-align: top;\n",
       "    }\n",
       "\n",
       "    .dataframe thead tr th {\n",
       "        text-align: left;\n",
       "    }\n",
       "\n",
       "    .dataframe thead tr:last-of-type th {\n",
       "        text-align: right;\n",
       "    }\n",
       "</style>\n",
       "<table border=\"1\" class=\"dataframe\">\n",
       "  <thead>\n",
       "    <tr>\n",
       "      <th></th>\n",
       "      <th colspan=\"6\" halign=\"left\">AGG</th>\n",
       "      <th colspan=\"6\" halign=\"left\">SPY</th>\n",
       "    </tr>\n",
       "    <tr>\n",
       "      <th></th>\n",
       "      <th>open</th>\n",
       "      <th>high</th>\n",
       "      <th>low</th>\n",
       "      <th>close</th>\n",
       "      <th>volume</th>\n",
       "      <th>daily_return</th>\n",
       "      <th>open</th>\n",
       "      <th>high</th>\n",
       "      <th>low</th>\n",
       "      <th>close</th>\n",
       "      <th>volume</th>\n",
       "      <th>daily_return</th>\n",
       "    </tr>\n",
       "    <tr>\n",
       "      <th>time</th>\n",
       "      <th></th>\n",
       "      <th></th>\n",
       "      <th></th>\n",
       "      <th></th>\n",
       "      <th></th>\n",
       "      <th></th>\n",
       "      <th></th>\n",
       "      <th></th>\n",
       "      <th></th>\n",
       "      <th></th>\n",
       "      <th></th>\n",
       "      <th></th>\n",
       "    </tr>\n",
       "  </thead>\n",
       "  <tbody>\n",
       "    <tr>\n",
       "      <th>2011-04-27 00:00:00-04:00</th>\n",
       "      <td>106.02</td>\n",
       "      <td>106.15</td>\n",
       "      <td>105.8700</td>\n",
       "      <td>106.12</td>\n",
       "      <td>445160.0</td>\n",
       "      <td>NaN</td>\n",
       "      <td>135.05</td>\n",
       "      <td>135.87</td>\n",
       "      <td>134.500</td>\n",
       "      <td>135.62</td>\n",
       "      <td>115224999.0</td>\n",
       "      <td>NaN</td>\n",
       "    </tr>\n",
       "    <tr>\n",
       "      <th>2011-04-28 00:00:00-04:00</th>\n",
       "      <td>106.28</td>\n",
       "      <td>106.39</td>\n",
       "      <td>106.1652</td>\n",
       "      <td>106.39</td>\n",
       "      <td>533653.0</td>\n",
       "      <td>0.002544</td>\n",
       "      <td>135.43</td>\n",
       "      <td>136.29</td>\n",
       "      <td>135.410</td>\n",
       "      <td>136.11</td>\n",
       "      <td>104553462.0</td>\n",
       "      <td>0.003613</td>\n",
       "    </tr>\n",
       "    <tr>\n",
       "      <th>2011-04-29 00:00:00-04:00</th>\n",
       "      <td>106.24</td>\n",
       "      <td>106.49</td>\n",
       "      <td>106.2400</td>\n",
       "      <td>106.46</td>\n",
       "      <td>435680.0</td>\n",
       "      <td>0.000658</td>\n",
       "      <td>136.16</td>\n",
       "      <td>136.57</td>\n",
       "      <td>135.980</td>\n",
       "      <td>136.46</td>\n",
       "      <td>84397226.0</td>\n",
       "      <td>0.002571</td>\n",
       "    </tr>\n",
       "    <tr>\n",
       "      <th>2011-05-02 00:00:00-04:00</th>\n",
       "      <td>106.21</td>\n",
       "      <td>106.24</td>\n",
       "      <td>106.0400</td>\n",
       "      <td>106.19</td>\n",
       "      <td>553216.0</td>\n",
       "      <td>-0.002536</td>\n",
       "      <td>137.07</td>\n",
       "      <td>137.18</td>\n",
       "      <td>135.950</td>\n",
       "      <td>136.23</td>\n",
       "      <td>112873467.0</td>\n",
       "      <td>-0.001685</td>\n",
       "    </tr>\n",
       "    <tr>\n",
       "      <th>2011-05-03 00:00:00-04:00</th>\n",
       "      <td>106.26</td>\n",
       "      <td>106.34</td>\n",
       "      <td>106.1500</td>\n",
       "      <td>106.23</td>\n",
       "      <td>471087.0</td>\n",
       "      <td>0.000377</td>\n",
       "      <td>135.96</td>\n",
       "      <td>136.19</td>\n",
       "      <td>135.045</td>\n",
       "      <td>135.72</td>\n",
       "      <td>120587313.0</td>\n",
       "      <td>-0.003744</td>\n",
       "    </tr>\n",
       "  </tbody>\n",
       "</table>\n",
       "</div>"
      ],
      "text/plain": [
       "                              AGG                                      \\\n",
       "                             open    high       low   close    volume   \n",
       "time                                                                    \n",
       "2011-04-27 00:00:00-04:00  106.02  106.15  105.8700  106.12  445160.0   \n",
       "2011-04-28 00:00:00-04:00  106.28  106.39  106.1652  106.39  533653.0   \n",
       "2011-04-29 00:00:00-04:00  106.24  106.49  106.2400  106.46  435680.0   \n",
       "2011-05-02 00:00:00-04:00  106.21  106.24  106.0400  106.19  553216.0   \n",
       "2011-05-03 00:00:00-04:00  106.26  106.34  106.1500  106.23  471087.0   \n",
       "\n",
       "                                           SPY                           \\\n",
       "                          daily_return    open    high      low   close   \n",
       "time                                                                      \n",
       "2011-04-27 00:00:00-04:00          NaN  135.05  135.87  134.500  135.62   \n",
       "2011-04-28 00:00:00-04:00     0.002544  135.43  136.29  135.410  136.11   \n",
       "2011-04-29 00:00:00-04:00     0.000658  136.16  136.57  135.980  136.46   \n",
       "2011-05-02 00:00:00-04:00    -0.002536  137.07  137.18  135.950  136.23   \n",
       "2011-05-03 00:00:00-04:00     0.000377  135.96  136.19  135.045  135.72   \n",
       "\n",
       "                                                     \n",
       "                                volume daily_return  \n",
       "time                                                 \n",
       "2011-04-27 00:00:00-04:00  115224999.0          NaN  \n",
       "2011-04-28 00:00:00-04:00  104553462.0     0.003613  \n",
       "2011-04-29 00:00:00-04:00   84397226.0     0.002571  \n",
       "2011-05-02 00:00:00-04:00  112873467.0    -0.001685  \n",
       "2011-05-03 00:00:00-04:00  120587313.0    -0.003744  "
      ]
     },
     "execution_count": 30,
     "metadata": {},
     "output_type": "execute_result"
    }
   ],
   "source": [
    "# Configure the Monte Carlo simulation to forecast 30 years cumulative returns\n",
    "# The weights should be split 40% to AGG and 60% to SPY.\n",
    "# Run 500 samples.\n",
    "MC_30_yrs = MCSimulation(\n",
    "    portfolio_data = closing_prices_10yrs,\n",
    "    weights = [.40,.60],\n",
    "    num_simulation = 500,\n",
    "    num_trading_days = 252*30\n",
    ")\n",
    "\n",
    "# Review the simulation input data\n",
    "MC_30_yrs.portfolio_data.head()"
   ]
  },
  {
   "cell_type": "code",
   "execution_count": 31,
   "metadata": {},
   "outputs": [
    {
     "name": "stdout",
     "output_type": "stream",
     "text": [
      "Running Monte Carlo simulation number 0.\n",
      "Running Monte Carlo simulation number 10.\n",
      "Running Monte Carlo simulation number 20.\n",
      "Running Monte Carlo simulation number 30.\n",
      "Running Monte Carlo simulation number 40.\n",
      "Running Monte Carlo simulation number 50.\n",
      "Running Monte Carlo simulation number 60.\n",
      "Running Monte Carlo simulation number 70.\n",
      "Running Monte Carlo simulation number 80.\n",
      "Running Monte Carlo simulation number 90.\n",
      "Running Monte Carlo simulation number 100.\n",
      "Running Monte Carlo simulation number 110.\n",
      "Running Monte Carlo simulation number 120.\n",
      "Running Monte Carlo simulation number 130.\n",
      "Running Monte Carlo simulation number 140.\n",
      "Running Monte Carlo simulation number 150.\n",
      "Running Monte Carlo simulation number 160.\n",
      "Running Monte Carlo simulation number 170.\n",
      "Running Monte Carlo simulation number 180.\n",
      "Running Monte Carlo simulation number 190.\n",
      "Running Monte Carlo simulation number 200.\n",
      "Running Monte Carlo simulation number 210.\n",
      "Running Monte Carlo simulation number 220.\n",
      "Running Monte Carlo simulation number 230.\n",
      "Running Monte Carlo simulation number 240.\n",
      "Running Monte Carlo simulation number 250.\n",
      "Running Monte Carlo simulation number 260.\n",
      "Running Monte Carlo simulation number 270.\n",
      "Running Monte Carlo simulation number 280.\n",
      "Running Monte Carlo simulation number 290.\n",
      "Running Monte Carlo simulation number 300.\n",
      "Running Monte Carlo simulation number 310.\n",
      "Running Monte Carlo simulation number 320.\n",
      "Running Monte Carlo simulation number 330.\n",
      "Running Monte Carlo simulation number 340.\n",
      "Running Monte Carlo simulation number 350.\n",
      "Running Monte Carlo simulation number 360.\n",
      "Running Monte Carlo simulation number 370.\n",
      "Running Monte Carlo simulation number 380.\n",
      "Running Monte Carlo simulation number 390.\n",
      "Running Monte Carlo simulation number 400.\n",
      "Running Monte Carlo simulation number 410.\n",
      "Running Monte Carlo simulation number 420.\n",
      "Running Monte Carlo simulation number 430.\n",
      "Running Monte Carlo simulation number 440.\n",
      "Running Monte Carlo simulation number 450.\n",
      "Running Monte Carlo simulation number 460.\n",
      "Running Monte Carlo simulation number 470.\n",
      "Running Monte Carlo simulation number 480.\n",
      "Running Monte Carlo simulation number 490.\n"
     ]
    },
    {
     "data": {
      "text/html": [
       "<div>\n",
       "<style scoped>\n",
       "    .dataframe tbody tr th:only-of-type {\n",
       "        vertical-align: middle;\n",
       "    }\n",
       "\n",
       "    .dataframe tbody tr th {\n",
       "        vertical-align: top;\n",
       "    }\n",
       "\n",
       "    .dataframe thead th {\n",
       "        text-align: right;\n",
       "    }\n",
       "</style>\n",
       "<table border=\"1\" class=\"dataframe\">\n",
       "  <thead>\n",
       "    <tr style=\"text-align: right;\">\n",
       "      <th></th>\n",
       "      <th>0</th>\n",
       "      <th>1</th>\n",
       "      <th>2</th>\n",
       "      <th>3</th>\n",
       "      <th>4</th>\n",
       "      <th>5</th>\n",
       "      <th>6</th>\n",
       "      <th>7</th>\n",
       "      <th>8</th>\n",
       "      <th>9</th>\n",
       "      <th>...</th>\n",
       "      <th>490</th>\n",
       "      <th>491</th>\n",
       "      <th>492</th>\n",
       "      <th>493</th>\n",
       "      <th>494</th>\n",
       "      <th>495</th>\n",
       "      <th>496</th>\n",
       "      <th>497</th>\n",
       "      <th>498</th>\n",
       "      <th>499</th>\n",
       "    </tr>\n",
       "  </thead>\n",
       "  <tbody>\n",
       "    <tr>\n",
       "      <th>0</th>\n",
       "      <td>1.000000</td>\n",
       "      <td>1.000000</td>\n",
       "      <td>1.000000</td>\n",
       "      <td>1.000000</td>\n",
       "      <td>1.000000</td>\n",
       "      <td>1.000000</td>\n",
       "      <td>1.000000</td>\n",
       "      <td>1.000000</td>\n",
       "      <td>1.000000</td>\n",
       "      <td>1.000000</td>\n",
       "      <td>...</td>\n",
       "      <td>1.000000</td>\n",
       "      <td>1.000000</td>\n",
       "      <td>1.000000</td>\n",
       "      <td>1.000000</td>\n",
       "      <td>1.000000</td>\n",
       "      <td>1.000000</td>\n",
       "      <td>1.000000</td>\n",
       "      <td>1.000000</td>\n",
       "      <td>1.000000</td>\n",
       "      <td>1.000000</td>\n",
       "    </tr>\n",
       "    <tr>\n",
       "      <th>1</th>\n",
       "      <td>1.003072</td>\n",
       "      <td>0.990389</td>\n",
       "      <td>0.997387</td>\n",
       "      <td>0.986937</td>\n",
       "      <td>0.999786</td>\n",
       "      <td>1.003387</td>\n",
       "      <td>0.994611</td>\n",
       "      <td>1.003812</td>\n",
       "      <td>1.000391</td>\n",
       "      <td>1.001567</td>\n",
       "      <td>...</td>\n",
       "      <td>0.996560</td>\n",
       "      <td>0.998892</td>\n",
       "      <td>1.011857</td>\n",
       "      <td>1.002426</td>\n",
       "      <td>0.989610</td>\n",
       "      <td>0.997309</td>\n",
       "      <td>0.994964</td>\n",
       "      <td>1.001093</td>\n",
       "      <td>1.008072</td>\n",
       "      <td>1.007798</td>\n",
       "    </tr>\n",
       "    <tr>\n",
       "      <th>2</th>\n",
       "      <td>0.999989</td>\n",
       "      <td>0.989644</td>\n",
       "      <td>0.990836</td>\n",
       "      <td>0.978657</td>\n",
       "      <td>1.005336</td>\n",
       "      <td>0.997227</td>\n",
       "      <td>0.990867</td>\n",
       "      <td>1.008487</td>\n",
       "      <td>1.006590</td>\n",
       "      <td>1.004980</td>\n",
       "      <td>...</td>\n",
       "      <td>1.012457</td>\n",
       "      <td>0.987960</td>\n",
       "      <td>1.013288</td>\n",
       "      <td>1.017048</td>\n",
       "      <td>0.992504</td>\n",
       "      <td>0.992726</td>\n",
       "      <td>0.985360</td>\n",
       "      <td>1.002616</td>\n",
       "      <td>1.007965</td>\n",
       "      <td>1.006239</td>\n",
       "    </tr>\n",
       "    <tr>\n",
       "      <th>3</th>\n",
       "      <td>0.995268</td>\n",
       "      <td>0.983072</td>\n",
       "      <td>0.996529</td>\n",
       "      <td>0.982810</td>\n",
       "      <td>1.002929</td>\n",
       "      <td>0.992286</td>\n",
       "      <td>0.990779</td>\n",
       "      <td>1.010807</td>\n",
       "      <td>1.007592</td>\n",
       "      <td>1.002233</td>\n",
       "      <td>...</td>\n",
       "      <td>1.003147</td>\n",
       "      <td>0.984508</td>\n",
       "      <td>1.009997</td>\n",
       "      <td>1.015890</td>\n",
       "      <td>0.999124</td>\n",
       "      <td>0.988101</td>\n",
       "      <td>0.988905</td>\n",
       "      <td>0.997449</td>\n",
       "      <td>1.025648</td>\n",
       "      <td>0.996526</td>\n",
       "    </tr>\n",
       "    <tr>\n",
       "      <th>4</th>\n",
       "      <td>0.990081</td>\n",
       "      <td>0.986926</td>\n",
       "      <td>0.995776</td>\n",
       "      <td>0.990550</td>\n",
       "      <td>1.001945</td>\n",
       "      <td>0.991846</td>\n",
       "      <td>0.992144</td>\n",
       "      <td>1.009531</td>\n",
       "      <td>1.005020</td>\n",
       "      <td>0.995293</td>\n",
       "      <td>...</td>\n",
       "      <td>1.006632</td>\n",
       "      <td>0.992604</td>\n",
       "      <td>1.002377</td>\n",
       "      <td>1.004261</td>\n",
       "      <td>1.002551</td>\n",
       "      <td>0.992635</td>\n",
       "      <td>0.994552</td>\n",
       "      <td>0.986679</td>\n",
       "      <td>1.019801</td>\n",
       "      <td>1.000529</td>\n",
       "    </tr>\n",
       "    <tr>\n",
       "      <th>...</th>\n",
       "      <td>...</td>\n",
       "      <td>...</td>\n",
       "      <td>...</td>\n",
       "      <td>...</td>\n",
       "      <td>...</td>\n",
       "      <td>...</td>\n",
       "      <td>...</td>\n",
       "      <td>...</td>\n",
       "      <td>...</td>\n",
       "      <td>...</td>\n",
       "      <td>...</td>\n",
       "      <td>...</td>\n",
       "      <td>...</td>\n",
       "      <td>...</td>\n",
       "      <td>...</td>\n",
       "      <td>...</td>\n",
       "      <td>...</td>\n",
       "      <td>...</td>\n",
       "      <td>...</td>\n",
       "      <td>...</td>\n",
       "      <td>...</td>\n",
       "    </tr>\n",
       "    <tr>\n",
       "      <th>7556</th>\n",
       "      <td>2.548868</td>\n",
       "      <td>6.990844</td>\n",
       "      <td>6.765286</td>\n",
       "      <td>8.450104</td>\n",
       "      <td>8.454801</td>\n",
       "      <td>4.004730</td>\n",
       "      <td>15.422549</td>\n",
       "      <td>6.867188</td>\n",
       "      <td>9.101409</td>\n",
       "      <td>17.523870</td>\n",
       "      <td>...</td>\n",
       "      <td>4.358952</td>\n",
       "      <td>10.305278</td>\n",
       "      <td>7.273080</td>\n",
       "      <td>10.898505</td>\n",
       "      <td>27.968713</td>\n",
       "      <td>13.307229</td>\n",
       "      <td>7.100287</td>\n",
       "      <td>7.258815</td>\n",
       "      <td>12.669501</td>\n",
       "      <td>20.397401</td>\n",
       "    </tr>\n",
       "    <tr>\n",
       "      <th>7557</th>\n",
       "      <td>2.531195</td>\n",
       "      <td>7.002017</td>\n",
       "      <td>6.723893</td>\n",
       "      <td>8.472510</td>\n",
       "      <td>8.381863</td>\n",
       "      <td>4.013898</td>\n",
       "      <td>15.649480</td>\n",
       "      <td>6.806512</td>\n",
       "      <td>9.103586</td>\n",
       "      <td>17.391527</td>\n",
       "      <td>...</td>\n",
       "      <td>4.369450</td>\n",
       "      <td>10.399659</td>\n",
       "      <td>7.314445</td>\n",
       "      <td>10.958715</td>\n",
       "      <td>27.905761</td>\n",
       "      <td>13.377669</td>\n",
       "      <td>7.168640</td>\n",
       "      <td>7.283081</td>\n",
       "      <td>12.722631</td>\n",
       "      <td>20.579524</td>\n",
       "    </tr>\n",
       "    <tr>\n",
       "      <th>7558</th>\n",
       "      <td>2.535882</td>\n",
       "      <td>6.984795</td>\n",
       "      <td>6.626542</td>\n",
       "      <td>8.594993</td>\n",
       "      <td>8.298806</td>\n",
       "      <td>4.024130</td>\n",
       "      <td>15.548456</td>\n",
       "      <td>6.738409</td>\n",
       "      <td>9.066330</td>\n",
       "      <td>17.708725</td>\n",
       "      <td>...</td>\n",
       "      <td>4.369014</td>\n",
       "      <td>10.448431</td>\n",
       "      <td>7.287541</td>\n",
       "      <td>10.978926</td>\n",
       "      <td>28.210147</td>\n",
       "      <td>13.313891</td>\n",
       "      <td>7.181715</td>\n",
       "      <td>7.304242</td>\n",
       "      <td>12.697732</td>\n",
       "      <td>20.527665</td>\n",
       "    </tr>\n",
       "    <tr>\n",
       "      <th>7559</th>\n",
       "      <td>2.544409</td>\n",
       "      <td>7.034200</td>\n",
       "      <td>6.617368</td>\n",
       "      <td>8.646107</td>\n",
       "      <td>8.318290</td>\n",
       "      <td>4.006007</td>\n",
       "      <td>15.436106</td>\n",
       "      <td>6.708141</td>\n",
       "      <td>9.098009</td>\n",
       "      <td>17.635539</td>\n",
       "      <td>...</td>\n",
       "      <td>4.354814</td>\n",
       "      <td>10.282179</td>\n",
       "      <td>7.286733</td>\n",
       "      <td>10.992885</td>\n",
       "      <td>28.504178</td>\n",
       "      <td>13.224482</td>\n",
       "      <td>7.239725</td>\n",
       "      <td>7.369772</td>\n",
       "      <td>12.653110</td>\n",
       "      <td>20.658583</td>\n",
       "    </tr>\n",
       "    <tr>\n",
       "      <th>7560</th>\n",
       "      <td>2.532240</td>\n",
       "      <td>7.003766</td>\n",
       "      <td>6.606963</td>\n",
       "      <td>8.681295</td>\n",
       "      <td>8.412831</td>\n",
       "      <td>4.004871</td>\n",
       "      <td>15.487485</td>\n",
       "      <td>6.781566</td>\n",
       "      <td>9.039763</td>\n",
       "      <td>17.733829</td>\n",
       "      <td>...</td>\n",
       "      <td>4.421830</td>\n",
       "      <td>10.202103</td>\n",
       "      <td>7.261452</td>\n",
       "      <td>10.981868</td>\n",
       "      <td>28.629854</td>\n",
       "      <td>13.138479</td>\n",
       "      <td>7.256143</td>\n",
       "      <td>7.301884</td>\n",
       "      <td>12.784341</td>\n",
       "      <td>20.818541</td>\n",
       "    </tr>\n",
       "  </tbody>\n",
       "</table>\n",
       "<p>7561 rows × 500 columns</p>\n",
       "</div>"
      ],
      "text/plain": [
       "           0         1         2         3         4         5          6    \\\n",
       "0     1.000000  1.000000  1.000000  1.000000  1.000000  1.000000   1.000000   \n",
       "1     1.003072  0.990389  0.997387  0.986937  0.999786  1.003387   0.994611   \n",
       "2     0.999989  0.989644  0.990836  0.978657  1.005336  0.997227   0.990867   \n",
       "3     0.995268  0.983072  0.996529  0.982810  1.002929  0.992286   0.990779   \n",
       "4     0.990081  0.986926  0.995776  0.990550  1.001945  0.991846   0.992144   \n",
       "...        ...       ...       ...       ...       ...       ...        ...   \n",
       "7556  2.548868  6.990844  6.765286  8.450104  8.454801  4.004730  15.422549   \n",
       "7557  2.531195  7.002017  6.723893  8.472510  8.381863  4.013898  15.649480   \n",
       "7558  2.535882  6.984795  6.626542  8.594993  8.298806  4.024130  15.548456   \n",
       "7559  2.544409  7.034200  6.617368  8.646107  8.318290  4.006007  15.436106   \n",
       "7560  2.532240  7.003766  6.606963  8.681295  8.412831  4.004871  15.487485   \n",
       "\n",
       "           7         8          9    ...       490        491       492  \\\n",
       "0     1.000000  1.000000   1.000000  ...  1.000000   1.000000  1.000000   \n",
       "1     1.003812  1.000391   1.001567  ...  0.996560   0.998892  1.011857   \n",
       "2     1.008487  1.006590   1.004980  ...  1.012457   0.987960  1.013288   \n",
       "3     1.010807  1.007592   1.002233  ...  1.003147   0.984508  1.009997   \n",
       "4     1.009531  1.005020   0.995293  ...  1.006632   0.992604  1.002377   \n",
       "...        ...       ...        ...  ...       ...        ...       ...   \n",
       "7556  6.867188  9.101409  17.523870  ...  4.358952  10.305278  7.273080   \n",
       "7557  6.806512  9.103586  17.391527  ...  4.369450  10.399659  7.314445   \n",
       "7558  6.738409  9.066330  17.708725  ...  4.369014  10.448431  7.287541   \n",
       "7559  6.708141  9.098009  17.635539  ...  4.354814  10.282179  7.286733   \n",
       "7560  6.781566  9.039763  17.733829  ...  4.421830  10.202103  7.261452   \n",
       "\n",
       "            493        494        495       496       497        498  \\\n",
       "0      1.000000   1.000000   1.000000  1.000000  1.000000   1.000000   \n",
       "1      1.002426   0.989610   0.997309  0.994964  1.001093   1.008072   \n",
       "2      1.017048   0.992504   0.992726  0.985360  1.002616   1.007965   \n",
       "3      1.015890   0.999124   0.988101  0.988905  0.997449   1.025648   \n",
       "4      1.004261   1.002551   0.992635  0.994552  0.986679   1.019801   \n",
       "...         ...        ...        ...       ...       ...        ...   \n",
       "7556  10.898505  27.968713  13.307229  7.100287  7.258815  12.669501   \n",
       "7557  10.958715  27.905761  13.377669  7.168640  7.283081  12.722631   \n",
       "7558  10.978926  28.210147  13.313891  7.181715  7.304242  12.697732   \n",
       "7559  10.992885  28.504178  13.224482  7.239725  7.369772  12.653110   \n",
       "7560  10.981868  28.629854  13.138479  7.256143  7.301884  12.784341   \n",
       "\n",
       "            499  \n",
       "0      1.000000  \n",
       "1      1.007798  \n",
       "2      1.006239  \n",
       "3      0.996526  \n",
       "4      1.000529  \n",
       "...         ...  \n",
       "7556  20.397401  \n",
       "7557  20.579524  \n",
       "7558  20.527665  \n",
       "7559  20.658583  \n",
       "7560  20.818541  \n",
       "\n",
       "[7561 rows x 500 columns]"
      ]
     },
     "execution_count": 31,
     "metadata": {},
     "output_type": "execute_result"
    }
   ],
   "source": [
    "# Run the Monte Carlo simulation to forecast 30 years cumulative returns\n",
    "MC_30_yrs.calc_cumulative_return()"
   ]
  },
  {
   "cell_type": "code",
   "execution_count": 32,
   "metadata": {},
   "outputs": [
    {
     "data": {
      "image/png": "[encoded data removed]",
      "text/plain": [
       "<Figure size 432x288 with 1 Axes>"
      ]
     },
     "metadata": {
      "needs_background": "light"
     },
     "output_type": "display_data"
    }
   ],
   "source": [
    "# Visualize the 30-year Monte Carlo simulation by creating an\n",
    "# overlay line plot\n",
    "MC_30_yrs.plot_simulation();"
   ]
  },
  {
   "cell_type": "markdown",
   "metadata": {},
   "source": [
    "#### Step 3: Plot the probability distribution of the Monte Carlo simulation."
   ]
  },
  {
   "cell_type": "code",
   "execution_count": 33,
   "metadata": {},
   "outputs": [
    {
     "data": {
      "image/png": "[encoded data removed]",
      "text/plain": [
       "<Figure size 432x288 with 1 Axes>"
      ]
     },
     "metadata": {
      "needs_background": "light"
     },
     "output_type": "display_data"
    }
   ],
   "source": [
    "# Visualize the probability distribution of the 30-year Monte Carlo simulation \n",
    "# by plotting a histogram\n",
    "MC_30_yrs.plot_distribution();"
   ]
  },
  {
   "cell_type": "markdown",
   "metadata": {},
   "source": [
    "#### Step 4: Generate the summary statistics for the Monte Carlo simulation."
   ]
  },
  {
   "cell_type": "code",
   "execution_count": 34,
   "metadata": {},
   "outputs": [
    {
     "name": "stdout",
     "output_type": "stream",
     "text": [
      "count           500.000000\n",
      "mean             11.405531\n",
      "std               7.306855\n",
      "min               1.495382\n",
      "25%               6.393861\n",
      "50%               9.420695\n",
      "75%              13.906170\n",
      "max              46.326803\n",
      "95% CI Lower      3.318843\n",
      "95% CI Upper     32.602545\n",
      "Name: 7560, dtype: float64\n"
     ]
    }
   ],
   "source": [
    "# Generate summary statistics from the 30-year Monte Carlo simulation results\n",
    "# Save the results as a variable\n",
    "MC_summary_stats = MC_30_yrs.summarize_cumulative_return()\n",
    "\n",
    "# Review the 30-year Monte Carlo summary statistics\n",
    "print(MC_summary_stats)"
   ]
  },
  {
   "cell_type": "markdown",
   "metadata": {},
   "source": [
    "### Analyze the Retirement Portfolio Forecasts\n",
    "\n",
    "Using the current value of only the stock and bond portion of the member's portfolio and the summary statistics that you generated from the Monte Carlo simulation, answer the following question in your Jupyter notebook:\n",
    "\n",
    "-  What are the lower and upper bounds for the expected value of the portfolio with a 95% confidence interval?\n"
   ]
  },
  {
   "cell_type": "code",
   "execution_count": 35,
   "metadata": {},
   "outputs": [
    {
     "name": "stdout",
     "output_type": "stream",
     "text": [
      "Current balance of the total portfolio is $68796.80\n"
     ]
    }
   ],
   "source": [
    "# Print the current balance of the stock and bond portion of the members portfolio\n",
    "print(f\"Current balance of the total portfolio is ${total_stocks_bonds:0.2f}\")"
   ]
  },
  {
   "cell_type": "code",
   "execution_count": 36,
   "metadata": {},
   "outputs": [
    {
     "name": "stdout",
     "output_type": "stream",
     "text": [
      "There is a 95% chance that current value of ($68796.80) in the portfolio over the next 30 years will end within in the range of $ 228325.78 and $ 2242950.74\n"
     ]
    }
   ],
   "source": [
    "# Use the lower and upper `95%` confidence intervals to calculate the range of the possible outcomes for the current stock/bond portfolio\n",
    "ci_lower_thirty_cumulative_return = MC_summary_stats[8] * total_stocks_bonds\n",
    "ci_upper_thirty_cumulative_return = MC_summary_stats[9] * total_stocks_bonds\n",
    "\n",
    "# Print the result of your calculations\n",
    "print(f\"There is a 95% chance that current value of (${total_stocks_bonds:0.2f}) in the portfolio\"\n",
    "    f\" over the next 30 years will end within in the range of\"\n",
    "    f\" ${ci_lower_thirty_cumulative_return: .2f} and ${ci_upper_thirty_cumulative_return: .2f}\")\n"
   ]
  },
  {
   "cell_type": "markdown",
   "metadata": {},
   "source": [
    "### Forecast Cumulative Returns in 10 Years\n",
    "\n",
    "The CTO of the credit union is impressed with your work on these planning tools but wonders if 30 years is a long time to wait until retirement. So, your next task is to adjust the retirement portfolio and run a new Monte Carlo simulation to find out if the changes will allow members to retire earlier.\n",
    "\n",
    "For this new Monte Carlo simulation, do the following: \n",
    "\n",
    "- Forecast the cumulative returns for 10 years from now. Because of the shortened investment horizon (30 years to 10 years), the portfolio needs to invest more heavily in the riskier asset&mdash;that is, stock&mdash;to help accumulate wealth for retirement. \n",
    "\n",
    "- Adjust the weights of the retirement portfolio so that the composition for the Monte Carlo simulation consists of 20% bonds and 80% stocks. \n",
    "\n",
    "- Run the simulation over 500 samples, and use the same data that the API call to Alpaca generated.\n",
    "\n",
    "- Based on the new Monte Carlo simulation, answer the following questions in your Jupyter notebook:\n",
    "\n",
    "    - Using the current value of only the stock and bond portion of the member's portfolio and the summary statistics that you generated from the new Monte Carlo simulation, what are the lower and upper bounds for the expected value of the portfolio (with the new weights) with a 95% confidence interval?\n",
    "\n",
    "    - Will weighting the portfolio more heavily toward stocks allow the credit union members to retire after only 10 years?\n"
   ]
  },
  {
   "cell_type": "code",
   "execution_count": 37,
   "metadata": {},
   "outputs": [
    {
     "data": {
      "text/html": [
       "<div>\n",
       "<style scoped>\n",
       "    .dataframe tbody tr th:only-of-type {\n",
       "        vertical-align: middle;\n",
       "    }\n",
       "\n",
       "    .dataframe tbody tr th {\n",
       "        vertical-align: top;\n",
       "    }\n",
       "\n",
       "    .dataframe thead tr th {\n",
       "        text-align: left;\n",
       "    }\n",
       "\n",
       "    .dataframe thead tr:last-of-type th {\n",
       "        text-align: right;\n",
       "    }\n",
       "</style>\n",
       "<table border=\"1\" class=\"dataframe\">\n",
       "  <thead>\n",
       "    <tr>\n",
       "      <th></th>\n",
       "      <th colspan=\"6\" halign=\"left\">AGG</th>\n",
       "      <th colspan=\"6\" halign=\"left\">SPY</th>\n",
       "    </tr>\n",
       "    <tr>\n",
       "      <th></th>\n",
       "      <th>open</th>\n",
       "      <th>high</th>\n",
       "      <th>low</th>\n",
       "      <th>close</th>\n",
       "      <th>volume</th>\n",
       "      <th>daily_return</th>\n",
       "      <th>open</th>\n",
       "      <th>high</th>\n",
       "      <th>low</th>\n",
       "      <th>close</th>\n",
       "      <th>volume</th>\n",
       "      <th>daily_return</th>\n",
       "    </tr>\n",
       "    <tr>\n",
       "      <th>time</th>\n",
       "      <th></th>\n",
       "      <th></th>\n",
       "      <th></th>\n",
       "      <th></th>\n",
       "      <th></th>\n",
       "      <th></th>\n",
       "      <th></th>\n",
       "      <th></th>\n",
       "      <th></th>\n",
       "      <th></th>\n",
       "      <th></th>\n",
       "      <th></th>\n",
       "    </tr>\n",
       "  </thead>\n",
       "  <tbody>\n",
       "    <tr>\n",
       "      <th>2011-04-27 00:00:00-04:00</th>\n",
       "      <td>106.02</td>\n",
       "      <td>106.15</td>\n",
       "      <td>105.8700</td>\n",
       "      <td>106.12</td>\n",
       "      <td>445160.0</td>\n",
       "      <td>NaN</td>\n",
       "      <td>135.05</td>\n",
       "      <td>135.87</td>\n",
       "      <td>134.500</td>\n",
       "      <td>135.62</td>\n",
       "      <td>115224999.0</td>\n",
       "      <td>NaN</td>\n",
       "    </tr>\n",
       "    <tr>\n",
       "      <th>2011-04-28 00:00:00-04:00</th>\n",
       "      <td>106.28</td>\n",
       "      <td>106.39</td>\n",
       "      <td>106.1652</td>\n",
       "      <td>106.39</td>\n",
       "      <td>533653.0</td>\n",
       "      <td>0.002544</td>\n",
       "      <td>135.43</td>\n",
       "      <td>136.29</td>\n",
       "      <td>135.410</td>\n",
       "      <td>136.11</td>\n",
       "      <td>104553462.0</td>\n",
       "      <td>0.003613</td>\n",
       "    </tr>\n",
       "    <tr>\n",
       "      <th>2011-04-29 00:00:00-04:00</th>\n",
       "      <td>106.24</td>\n",
       "      <td>106.49</td>\n",
       "      <td>106.2400</td>\n",
       "      <td>106.46</td>\n",
       "      <td>435680.0</td>\n",
       "      <td>0.000658</td>\n",
       "      <td>136.16</td>\n",
       "      <td>136.57</td>\n",
       "      <td>135.980</td>\n",
       "      <td>136.46</td>\n",
       "      <td>84397226.0</td>\n",
       "      <td>0.002571</td>\n",
       "    </tr>\n",
       "    <tr>\n",
       "      <th>2011-05-02 00:00:00-04:00</th>\n",
       "      <td>106.21</td>\n",
       "      <td>106.24</td>\n",
       "      <td>106.0400</td>\n",
       "      <td>106.19</td>\n",
       "      <td>553216.0</td>\n",
       "      <td>-0.002536</td>\n",
       "      <td>137.07</td>\n",
       "      <td>137.18</td>\n",
       "      <td>135.950</td>\n",
       "      <td>136.23</td>\n",
       "      <td>112873467.0</td>\n",
       "      <td>-0.001685</td>\n",
       "    </tr>\n",
       "    <tr>\n",
       "      <th>2011-05-03 00:00:00-04:00</th>\n",
       "      <td>106.26</td>\n",
       "      <td>106.34</td>\n",
       "      <td>106.1500</td>\n",
       "      <td>106.23</td>\n",
       "      <td>471087.0</td>\n",
       "      <td>0.000377</td>\n",
       "      <td>135.96</td>\n",
       "      <td>136.19</td>\n",
       "      <td>135.045</td>\n",
       "      <td>135.72</td>\n",
       "      <td>120587313.0</td>\n",
       "      <td>-0.003744</td>\n",
       "    </tr>\n",
       "  </tbody>\n",
       "</table>\n",
       "</div>"
      ],
      "text/plain": [
       "                              AGG                                      \\\n",
       "                             open    high       low   close    volume   \n",
       "time                                                                    \n",
       "2011-04-27 00:00:00-04:00  106.02  106.15  105.8700  106.12  445160.0   \n",
       "2011-04-28 00:00:00-04:00  106.28  106.39  106.1652  106.39  533653.0   \n",
       "2011-04-29 00:00:00-04:00  106.24  106.49  106.2400  106.46  435680.0   \n",
       "2011-05-02 00:00:00-04:00  106.21  106.24  106.0400  106.19  553216.0   \n",
       "2011-05-03 00:00:00-04:00  106.26  106.34  106.1500  106.23  471087.0   \n",
       "\n",
       "                                           SPY                           \\\n",
       "                          daily_return    open    high      low   close   \n",
       "time                                                                      \n",
       "2011-04-27 00:00:00-04:00          NaN  135.05  135.87  134.500  135.62   \n",
       "2011-04-28 00:00:00-04:00     0.002544  135.43  136.29  135.410  136.11   \n",
       "2011-04-29 00:00:00-04:00     0.000658  136.16  136.57  135.980  136.46   \n",
       "2011-05-02 00:00:00-04:00    -0.002536  137.07  137.18  135.950  136.23   \n",
       "2011-05-03 00:00:00-04:00     0.000377  135.96  136.19  135.045  135.72   \n",
       "\n",
       "                                                     \n",
       "                                volume daily_return  \n",
       "time                                                 \n",
       "2011-04-27 00:00:00-04:00  115224999.0          NaN  \n",
       "2011-04-28 00:00:00-04:00  104553462.0     0.003613  \n",
       "2011-04-29 00:00:00-04:00   84397226.0     0.002571  \n",
       "2011-05-02 00:00:00-04:00  112873467.0    -0.001685  \n",
       "2011-05-03 00:00:00-04:00  120587313.0    -0.003744  "
      ]
     },
     "execution_count": 37,
     "metadata": {},
     "output_type": "execute_result"
    }
   ],
   "source": [
    "# Configure a Monte Carlo simulation to forecast 10 years cumulative returns\n",
    "# The weights should be split 20% to AGG and 80% to SPY.\n",
    "# Run 500 samples.\n",
    "MC_10_yrs = MCSimulation(\n",
    "    portfolio_data = closing_prices_10yrs,\n",
    "    weights = [.20,.80],\n",
    "    num_simulation = 500,\n",
    "    num_trading_days = 252*10\n",
    ")\n",
    "\n",
    "# Review the simulation input data\n",
    "MC_10_yrs.portfolio_data.head()"
   ]
  },
  {
   "cell_type": "code",
   "execution_count": 38,
   "metadata": {},
   "outputs": [
    {
     "name": "stdout",
     "output_type": "stream",
     "text": [
      "Running Monte Carlo simulation number 0.\n",
      "Running Monte Carlo simulation number 10.\n",
      "Running Monte Carlo simulation number 20.\n",
      "Running Monte Carlo simulation number 30.\n",
      "Running Monte Carlo simulation number 40.\n",
      "Running Monte Carlo simulation number 50.\n",
      "Running Monte Carlo simulation number 60.\n",
      "Running Monte Carlo simulation number 70.\n",
      "Running Monte Carlo simulation number 80.\n",
      "Running Monte Carlo simulation number 90.\n",
      "Running Monte Carlo simulation number 100.\n",
      "Running Monte Carlo simulation number 110.\n",
      "Running Monte Carlo simulation number 120.\n",
      "Running Monte Carlo simulation number 130.\n",
      "Running Monte Carlo simulation number 140.\n",
      "Running Monte Carlo simulation number 150.\n",
      "Running Monte Carlo simulation number 160.\n",
      "Running Monte Carlo simulation number 170.\n",
      "Running Monte Carlo simulation number 180.\n",
      "Running Monte Carlo simulation number 190.\n",
      "Running Monte Carlo simulation number 200.\n",
      "Running Monte Carlo simulation number 210.\n",
      "Running Monte Carlo simulation number 220.\n",
      "Running Monte Carlo simulation number 230.\n",
      "Running Monte Carlo simulation number 240.\n",
      "Running Monte Carlo simulation number 250.\n",
      "Running Monte Carlo simulation number 260.\n",
      "Running Monte Carlo simulation number 270.\n",
      "Running Monte Carlo simulation number 280.\n",
      "Running Monte Carlo simulation number 290.\n",
      "Running Monte Carlo simulation number 300.\n",
      "Running Monte Carlo simulation number 310.\n",
      "Running Monte Carlo simulation number 320.\n",
      "Running Monte Carlo simulation number 330.\n",
      "Running Monte Carlo simulation number 340.\n",
      "Running Monte Carlo simulation number 350.\n",
      "Running Monte Carlo simulation number 360.\n",
      "Running Monte Carlo simulation number 370.\n",
      "Running Monte Carlo simulation number 380.\n",
      "Running Monte Carlo simulation number 390.\n",
      "Running Monte Carlo simulation number 400.\n",
      "Running Monte Carlo simulation number 410.\n",
      "Running Monte Carlo simulation number 420.\n",
      "Running Monte Carlo simulation number 430.\n",
      "Running Monte Carlo simulation number 440.\n",
      "Running Monte Carlo simulation number 450.\n",
      "Running Monte Carlo simulation number 460.\n",
      "Running Monte Carlo simulation number 470.\n",
      "Running Monte Carlo simulation number 480.\n",
      "Running Monte Carlo simulation number 490.\n"
     ]
    },
    {
     "data": {
      "text/html": [
       "<div>\n",
       "<style scoped>\n",
       "    .dataframe tbody tr th:only-of-type {\n",
       "        vertical-align: middle;\n",
       "    }\n",
       "\n",
       "    .dataframe tbody tr th {\n",
       "        vertical-align: top;\n",
       "    }\n",
       "\n",
       "    .dataframe thead th {\n",
       "        text-align: right;\n",
       "    }\n",
       "</style>\n",
       "<table border=\"1\" class=\"dataframe\">\n",
       "  <thead>\n",
       "    <tr style=\"text-align: right;\">\n",
       "      <th></th>\n",
       "      <th>0</th>\n",
       "      <th>1</th>\n",
       "      <th>2</th>\n",
       "      <th>3</th>\n",
       "      <th>4</th>\n",
       "      <th>5</th>\n",
       "      <th>6</th>\n",
       "      <th>7</th>\n",
       "      <th>8</th>\n",
       "      <th>9</th>\n",
       "      <th>...</th>\n",
       "      <th>490</th>\n",
       "      <th>491</th>\n",
       "      <th>492</th>\n",
       "      <th>493</th>\n",
       "      <th>494</th>\n",
       "      <th>495</th>\n",
       "      <th>496</th>\n",
       "      <th>497</th>\n",
       "      <th>498</th>\n",
       "      <th>499</th>\n",
       "    </tr>\n",
       "  </thead>\n",
       "  <tbody>\n",
       "    <tr>\n",
       "      <th>0</th>\n",
       "      <td>1.000000</td>\n",
       "      <td>1.000000</td>\n",
       "      <td>1.000000</td>\n",
       "      <td>1.000000</td>\n",
       "      <td>1.000000</td>\n",
       "      <td>1.000000</td>\n",
       "      <td>1.000000</td>\n",
       "      <td>1.000000</td>\n",
       "      <td>1.000000</td>\n",
       "      <td>1.000000</td>\n",
       "      <td>...</td>\n",
       "      <td>1.000000</td>\n",
       "      <td>1.000000</td>\n",
       "      <td>1.000000</td>\n",
       "      <td>1.000000</td>\n",
       "      <td>1.000000</td>\n",
       "      <td>1.000000</td>\n",
       "      <td>1.000000</td>\n",
       "      <td>1.000000</td>\n",
       "      <td>1.000000</td>\n",
       "      <td>1.000000</td>\n",
       "    </tr>\n",
       "    <tr>\n",
       "      <th>1</th>\n",
       "      <td>1.002662</td>\n",
       "      <td>1.016400</td>\n",
       "      <td>1.007993</td>\n",
       "      <td>0.992530</td>\n",
       "      <td>0.998670</td>\n",
       "      <td>0.998210</td>\n",
       "      <td>1.006951</td>\n",
       "      <td>0.983375</td>\n",
       "      <td>1.017464</td>\n",
       "      <td>1.018906</td>\n",
       "      <td>...</td>\n",
       "      <td>1.003585</td>\n",
       "      <td>0.980088</td>\n",
       "      <td>0.994779</td>\n",
       "      <td>1.015790</td>\n",
       "      <td>1.010428</td>\n",
       "      <td>0.997290</td>\n",
       "      <td>1.002954</td>\n",
       "      <td>1.016679</td>\n",
       "      <td>0.997331</td>\n",
       "      <td>0.993167</td>\n",
       "    </tr>\n",
       "    <tr>\n",
       "      <th>2</th>\n",
       "      <td>1.009885</td>\n",
       "      <td>1.014886</td>\n",
       "      <td>0.998615</td>\n",
       "      <td>0.979300</td>\n",
       "      <td>0.998357</td>\n",
       "      <td>0.972827</td>\n",
       "      <td>1.000929</td>\n",
       "      <td>0.983537</td>\n",
       "      <td>1.017129</td>\n",
       "      <td>1.015186</td>\n",
       "      <td>...</td>\n",
       "      <td>1.003754</td>\n",
       "      <td>0.990223</td>\n",
       "      <td>0.983015</td>\n",
       "      <td>1.019016</td>\n",
       "      <td>1.016597</td>\n",
       "      <td>1.007402</td>\n",
       "      <td>1.003544</td>\n",
       "      <td>1.019761</td>\n",
       "      <td>1.012007</td>\n",
       "      <td>0.989481</td>\n",
       "    </tr>\n",
       "    <tr>\n",
       "      <th>3</th>\n",
       "      <td>1.003784</td>\n",
       "      <td>1.033532</td>\n",
       "      <td>1.011275</td>\n",
       "      <td>0.978365</td>\n",
       "      <td>0.995932</td>\n",
       "      <td>0.976469</td>\n",
       "      <td>0.999632</td>\n",
       "      <td>0.988365</td>\n",
       "      <td>1.013041</td>\n",
       "      <td>1.012445</td>\n",
       "      <td>...</td>\n",
       "      <td>1.014726</td>\n",
       "      <td>0.988342</td>\n",
       "      <td>0.995988</td>\n",
       "      <td>1.012158</td>\n",
       "      <td>1.002799</td>\n",
       "      <td>1.013626</td>\n",
       "      <td>1.005925</td>\n",
       "      <td>1.014529</td>\n",
       "      <td>1.019367</td>\n",
       "      <td>0.988061</td>\n",
       "    </tr>\n",
       "    <tr>\n",
       "      <th>4</th>\n",
       "      <td>0.984619</td>\n",
       "      <td>1.026585</td>\n",
       "      <td>1.022903</td>\n",
       "      <td>0.983772</td>\n",
       "      <td>1.007472</td>\n",
       "      <td>0.980053</td>\n",
       "      <td>1.019233</td>\n",
       "      <td>0.975797</td>\n",
       "      <td>1.011961</td>\n",
       "      <td>1.029352</td>\n",
       "      <td>...</td>\n",
       "      <td>1.015269</td>\n",
       "      <td>0.980771</td>\n",
       "      <td>0.990517</td>\n",
       "      <td>1.016501</td>\n",
       "      <td>1.007244</td>\n",
       "      <td>1.013185</td>\n",
       "      <td>1.010483</td>\n",
       "      <td>1.010864</td>\n",
       "      <td>1.029118</td>\n",
       "      <td>0.986661</td>\n",
       "    </tr>\n",
       "    <tr>\n",
       "      <th>...</th>\n",
       "      <td>...</td>\n",
       "      <td>...</td>\n",
       "      <td>...</td>\n",
       "      <td>...</td>\n",
       "      <td>...</td>\n",
       "      <td>...</td>\n",
       "      <td>...</td>\n",
       "      <td>...</td>\n",
       "      <td>...</td>\n",
       "      <td>...</td>\n",
       "      <td>...</td>\n",
       "      <td>...</td>\n",
       "      <td>...</td>\n",
       "      <td>...</td>\n",
       "      <td>...</td>\n",
       "      <td>...</td>\n",
       "      <td>...</td>\n",
       "      <td>...</td>\n",
       "      <td>...</td>\n",
       "      <td>...</td>\n",
       "      <td>...</td>\n",
       "    </tr>\n",
       "    <tr>\n",
       "      <th>2516</th>\n",
       "      <td>1.589672</td>\n",
       "      <td>3.649466</td>\n",
       "      <td>3.448003</td>\n",
       "      <td>2.627358</td>\n",
       "      <td>1.347775</td>\n",
       "      <td>3.501552</td>\n",
       "      <td>3.698505</td>\n",
       "      <td>2.042915</td>\n",
       "      <td>1.265108</td>\n",
       "      <td>2.190191</td>\n",
       "      <td>...</td>\n",
       "      <td>1.543329</td>\n",
       "      <td>1.547641</td>\n",
       "      <td>2.786219</td>\n",
       "      <td>3.067099</td>\n",
       "      <td>1.177542</td>\n",
       "      <td>2.347920</td>\n",
       "      <td>2.341749</td>\n",
       "      <td>2.560914</td>\n",
       "      <td>1.382558</td>\n",
       "      <td>1.569971</td>\n",
       "    </tr>\n",
       "    <tr>\n",
       "      <th>2517</th>\n",
       "      <td>1.581926</td>\n",
       "      <td>3.695729</td>\n",
       "      <td>3.467143</td>\n",
       "      <td>2.604932</td>\n",
       "      <td>1.344223</td>\n",
       "      <td>3.528812</td>\n",
       "      <td>3.725304</td>\n",
       "      <td>2.028051</td>\n",
       "      <td>1.264608</td>\n",
       "      <td>2.218857</td>\n",
       "      <td>...</td>\n",
       "      <td>1.513585</td>\n",
       "      <td>1.544613</td>\n",
       "      <td>2.747087</td>\n",
       "      <td>3.103211</td>\n",
       "      <td>1.175694</td>\n",
       "      <td>2.363135</td>\n",
       "      <td>2.352423</td>\n",
       "      <td>2.506798</td>\n",
       "      <td>1.391220</td>\n",
       "      <td>1.568088</td>\n",
       "    </tr>\n",
       "    <tr>\n",
       "      <th>2518</th>\n",
       "      <td>1.571314</td>\n",
       "      <td>3.741006</td>\n",
       "      <td>3.492124</td>\n",
       "      <td>2.590926</td>\n",
       "      <td>1.330249</td>\n",
       "      <td>3.495208</td>\n",
       "      <td>3.798328</td>\n",
       "      <td>2.047866</td>\n",
       "      <td>1.269834</td>\n",
       "      <td>2.203824</td>\n",
       "      <td>...</td>\n",
       "      <td>1.497402</td>\n",
       "      <td>1.558334</td>\n",
       "      <td>2.712962</td>\n",
       "      <td>3.058825</td>\n",
       "      <td>1.184135</td>\n",
       "      <td>2.396982</td>\n",
       "      <td>2.347479</td>\n",
       "      <td>2.456990</td>\n",
       "      <td>1.385159</td>\n",
       "      <td>1.545328</td>\n",
       "    </tr>\n",
       "    <tr>\n",
       "      <th>2519</th>\n",
       "      <td>1.564983</td>\n",
       "      <td>3.764510</td>\n",
       "      <td>3.512436</td>\n",
       "      <td>2.587516</td>\n",
       "      <td>1.319428</td>\n",
       "      <td>3.477996</td>\n",
       "      <td>3.835581</td>\n",
       "      <td>2.046647</td>\n",
       "      <td>1.263425</td>\n",
       "      <td>2.203465</td>\n",
       "      <td>...</td>\n",
       "      <td>1.510916</td>\n",
       "      <td>1.555915</td>\n",
       "      <td>2.700724</td>\n",
       "      <td>3.071861</td>\n",
       "      <td>1.197914</td>\n",
       "      <td>2.419180</td>\n",
       "      <td>2.351781</td>\n",
       "      <td>2.476540</td>\n",
       "      <td>1.380268</td>\n",
       "      <td>1.537735</td>\n",
       "    </tr>\n",
       "    <tr>\n",
       "      <th>2520</th>\n",
       "      <td>1.552217</td>\n",
       "      <td>3.774174</td>\n",
       "      <td>3.530486</td>\n",
       "      <td>2.573864</td>\n",
       "      <td>1.306537</td>\n",
       "      <td>3.504579</td>\n",
       "      <td>3.856765</td>\n",
       "      <td>2.060252</td>\n",
       "      <td>1.244733</td>\n",
       "      <td>2.216434</td>\n",
       "      <td>...</td>\n",
       "      <td>1.520505</td>\n",
       "      <td>1.544669</td>\n",
       "      <td>2.699956</td>\n",
       "      <td>3.084377</td>\n",
       "      <td>1.201263</td>\n",
       "      <td>2.400443</td>\n",
       "      <td>2.340905</td>\n",
       "      <td>2.482211</td>\n",
       "      <td>1.376747</td>\n",
       "      <td>1.538168</td>\n",
       "    </tr>\n",
       "  </tbody>\n",
       "</table>\n",
       "<p>2521 rows × 500 columns</p>\n",
       "</div>"
      ],
      "text/plain": [
       "           0         1         2         3         4         5         6    \\\n",
       "0     1.000000  1.000000  1.000000  1.000000  1.000000  1.000000  1.000000   \n",
       "1     1.002662  1.016400  1.007993  0.992530  0.998670  0.998210  1.006951   \n",
       "2     1.009885  1.014886  0.998615  0.979300  0.998357  0.972827  1.000929   \n",
       "3     1.003784  1.033532  1.011275  0.978365  0.995932  0.976469  0.999632   \n",
       "4     0.984619  1.026585  1.022903  0.983772  1.007472  0.980053  1.019233   \n",
       "...        ...       ...       ...       ...       ...       ...       ...   \n",
       "2516  1.589672  3.649466  3.448003  2.627358  1.347775  3.501552  3.698505   \n",
       "2517  1.581926  3.695729  3.467143  2.604932  1.344223  3.528812  3.725304   \n",
       "2518  1.571314  3.741006  3.492124  2.590926  1.330249  3.495208  3.798328   \n",
       "2519  1.564983  3.764510  3.512436  2.587516  1.319428  3.477996  3.835581   \n",
       "2520  1.552217  3.774174  3.530486  2.573864  1.306537  3.504579  3.856765   \n",
       "\n",
       "           7         8         9    ...       490       491       492  \\\n",
       "0     1.000000  1.000000  1.000000  ...  1.000000  1.000000  1.000000   \n",
       "1     0.983375  1.017464  1.018906  ...  1.003585  0.980088  0.994779   \n",
       "2     0.983537  1.017129  1.015186  ...  1.003754  0.990223  0.983015   \n",
       "3     0.988365  1.013041  1.012445  ...  1.014726  0.988342  0.995988   \n",
       "4     0.975797  1.011961  1.029352  ...  1.015269  0.980771  0.990517   \n",
       "...        ...       ...       ...  ...       ...       ...       ...   \n",
       "2516  2.042915  1.265108  2.190191  ...  1.543329  1.547641  2.786219   \n",
       "2517  2.028051  1.264608  2.218857  ...  1.513585  1.544613  2.747087   \n",
       "2518  2.047866  1.269834  2.203824  ...  1.497402  1.558334  2.712962   \n",
       "2519  2.046647  1.263425  2.203465  ...  1.510916  1.555915  2.700724   \n",
       "2520  2.060252  1.244733  2.216434  ...  1.520505  1.544669  2.699956   \n",
       "\n",
       "           493       494       495       496       497       498       499  \n",
       "0     1.000000  1.000000  1.000000  1.000000  1.000000  1.000000  1.000000  \n",
       "1     1.015790  1.010428  0.997290  1.002954  1.016679  0.997331  0.993167  \n",
       "2     1.019016  1.016597  1.007402  1.003544  1.019761  1.012007  0.989481  \n",
       "3     1.012158  1.002799  1.013626  1.005925  1.014529  1.019367  0.988061  \n",
       "4     1.016501  1.007244  1.013185  1.010483  1.010864  1.029118  0.986661  \n",
       "...        ...       ...       ...       ...       ...       ...       ...  \n",
       "2516  3.067099  1.177542  2.347920  2.341749  2.560914  1.382558  1.569971  \n",
       "2517  3.103211  1.175694  2.363135  2.352423  2.506798  1.391220  1.568088  \n",
       "2518  3.058825  1.184135  2.396982  2.347479  2.456990  1.385159  1.545328  \n",
       "2519  3.071861  1.197914  2.419180  2.351781  2.476540  1.380268  1.537735  \n",
       "2520  3.084377  1.201263  2.400443  2.340905  2.482211  1.376747  1.538168  \n",
       "\n",
       "[2521 rows x 500 columns]"
      ]
     },
     "execution_count": 38,
     "metadata": {},
     "output_type": "execute_result"
    }
   ],
   "source": [
    "# Run the Monte Carlo simulation to forecast 10 years cumulative returns\n",
    "MC_10_yrs.calc_cumulative_return()"
   ]
  },
  {
   "cell_type": "code",
   "execution_count": 39,
   "metadata": {},
   "outputs": [
    {
     "data": {
      "image/png": "[encoded data removed]",
      "text/plain": [
       "<Figure size 432x288 with 1 Axes>"
      ]
     },
     "metadata": {
      "needs_background": "light"
     },
     "output_type": "display_data"
    }
   ],
   "source": [
    "# Visualize the 10-year Monte Carlo simulation by creating an\n",
    "# overlay line plot\n",
    "MC_10_yrs.plot_simulation();"
   ]
  },
  {
   "cell_type": "code",
   "execution_count": 40,
   "metadata": {},
   "outputs": [
    {
     "data": {
      "image/png": "[encoded data removed]",
      "text/plain": [
       "<Figure size 432x288 with 1 Axes>"
      ]
     },
     "metadata": {
      "needs_background": "light"
     },
     "output_type": "display_data"
    }
   ],
   "source": [
    "# Visualize the probability distribution of the 10-year Monte Carlo simulation \n",
    "# by plotting a histogram\n",
    "MC_10_yrs.plot_distribution();"
   ]
  },
  {
   "cell_type": "code",
   "execution_count": 41,
   "metadata": {},
   "outputs": [
    {
     "name": "stdout",
     "output_type": "stream",
     "text": [
      "count           500.000000\n",
      "mean              2.791840\n",
      "std               1.346446\n",
      "min               0.684795\n",
      "25%               1.856054\n",
      "50%               2.467131\n",
      "75%               3.417085\n",
      "max              10.296708\n",
      "95% CI Lower      1.068671\n",
      "95% CI Upper      6.459768\n",
      "Name: 2520, dtype: float64\n"
     ]
    }
   ],
   "source": [
    "# Generate summary statistics from the 10-year Monte Carlo simulation results\n",
    "# Save the results as a variable\n",
    "MC_10yrs_summary_stats = MC_10_yrs.summarize_cumulative_return()\n",
    "\n",
    "# Review the 10-year Monte Carlo summary statistics\n",
    "print(MC_10yrs_summary_stats)"
   ]
  },
  {
   "cell_type": "markdown",
   "metadata": {},
   "source": [
    "### Answer the following questions:"
   ]
  },
  {
   "cell_type": "markdown",
   "metadata": {},
   "source": [
    "#### Question: Using the current value of only the stock and bond portion of the member's portfolio and the summary statistics that you generated from the new Monte Carlo simulation, what are the lower and upper bounds for the expected value of the portfolio (with the new weights) with a 95% confidence interval?"
   ]
  },
  {
   "cell_type": "code",
   "execution_count": 42,
   "metadata": {},
   "outputs": [
    {
     "name": "stdout",
     "output_type": "stream",
     "text": [
      "Current balance of the total portfolio is $68796.80\n"
     ]
    }
   ],
   "source": [
    "# Print the current balance of the stock and bond portion of the members portfolio\n",
    "print(f\"Current balance of the total portfolio is ${total_stocks_bonds:0.2f}\")"
   ]
  },
  {
   "cell_type": "code",
   "execution_count": 43,
   "metadata": {},
   "outputs": [
    {
     "name": "stdout",
     "output_type": "stream",
     "text": [
      "There is a 95% chance that current value of ($68796.80) in the portfolio over the next 10 years will end within in the range of $ 73521.12 and $ 444411.38\n"
     ]
    }
   ],
   "source": [
    "# Use the lower and upper `95%` confidence intervals to calculate the range of the possible outcomes for the current stock/bond portfolio\n",
    "ci_lower_ten_cumulative_return = MC_10yrs_summary_stats[8] * total_stocks_bonds\n",
    "ci_upper_ten_cumulative_return = MC_10yrs_summary_stats[9] * total_stocks_bonds\n",
    "\n",
    "# Print the result of your calculations\n",
    "print(f\"There is a 95% chance that current value of (${total_stocks_bonds:0.2f}) in the portfolio\"\n",
    "    f\" over the next 10 years will end within in the range of\"\n",
    "    f\" ${ci_lower_ten_cumulative_return: .2f} and ${ci_upper_ten_cumulative_return: .2f}\")"
   ]
  },
  {
   "cell_type": "markdown",
   "metadata": {},
   "source": [
    "#### Question: Will weighting the portfolio more heavily to stocks allow the credit union members to retire after only 10 years?"
   ]
  },
  {
   "cell_type": "raw",
   "metadata": {},
   "source": [
    "**Answer** # No, weighting the portfolio more heavily to stocks does make a difference but not enough for the credit union members to retire only after 10 years."
   ]
  },
  {
   "cell_type": "code",
   "execution_count": null,
   "metadata": {},
   "outputs": [],
   "source": []
  },
  {
   "cell_type": "code",
   "execution_count": null,
   "metadata": {},
   "outputs": [],
   "source": []
  }
 ],
 "metadata": {
  "kernelspec": {
   "display_name": "dev",
   "language": "python",
   "name": "dev"
  },
  "language_info": {
   "codemirror_mode": {
    "name": "ipython",
    "version": 3
   },
   "file_extension": ".py",
   "mimetype": "text/x-python",
   "name": "python",
   "nbconvert_exporter": "python",
   "pygments_lexer": "ipython3",
   "version": "3.8.5"
  }
 },
 "nbformat": 4,
 "nbformat_minor": 4
}
